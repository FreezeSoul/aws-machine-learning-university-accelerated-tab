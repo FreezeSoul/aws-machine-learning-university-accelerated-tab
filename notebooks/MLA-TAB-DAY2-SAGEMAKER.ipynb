{
 "cells": [
  {
   "cell_type": "markdown",
   "metadata": {},
   "source": [
    "![MLU Logo](../data/MLU_Logo.png)"
   ]
  },
  {
   "cell_type": "markdown",
   "metadata": {},
   "source": [
    "# <a name=\"0\">Machine Learning Accelerator - Tabular Data - Lecture 2</a>\n",
    "\n",
    "\n",
    "## SageMaker build-in LinearLearner\n",
    "\n",
    "In this notebook, we use Sagemaker's built-in machine learning model __LinearLearner__ to predict the __Outcome Type__ field of our review dataset.\n",
    "\n",
    "__Notes on AWS SageMaker__\n",
    "\n",
    "* Fully managed machine learning service, to quickly and easily get you started on building and training machine learning models - we have seen that already! Integrated Jupyter notebook instances, with easy access to data sources for exploration and analysis, abstract away many of the messy infrastructural details needed for hands-on ML - you don't have to manage servers, install libraries/dependencies, etc.!\n",
    "\n",
    "\n",
    "* Apart from easily building end-to-end machine learning models in SageMaker notebooks, like we did so far, SageMaker also provides a few __build-in common machine learning algorithms__ (check \"SageMaker Examples\" from your SageMaker instance top menu for a complete updated list) that are optimized to run efficiently against extremely large data in a distributed environment. __LinearLearner__ build-in algorithm in SageMaker is extremely fast at inference and can be trained at scale, in mini-batch fashion over GPU(s). The trained model can then be directly deployed into a production-ready hosted environment for easy access at inference. \n",
    "\n",
    "\n",
    "1. <a href=\"#1\">Read the dataset</a>\n",
    "2. <a href=\"#2\">Exploratory Data Analysis</a>\n",
    "3. <a href=\"#3\">Select features to build the model</a>\n",
    "4. <a href=\"#4\">Training and test datasets</a>\n",
    "5. <a href=\"#5\">Data processing with Pipeline and ColumnTransformer</a>\n",
    "6. <a href=\"#6\">Train a classifier with SageMaker build-in algorithm</a>\n",
    "7. <a href=\"#7\">Model evaluation</a>\n",
    "8. <a href=\"#8\">Deploy the model to an endpoint</a>\n",
    "9. <a href=\"#9\">Test the enpoint</a>\n",
    "10. <a href=\"#10\">Clean up model artifacts</a>\n",
    "\n",
    "__Austin Animal Center Dataset__:\n",
    "\n",
    "In this exercise, we are working with pet adoption data from __Austin Animal Center__. We have two datasets that cover intake and outcome of animals. Intake data is available from [here](https://data.austintexas.gov/Health-and-Community-Services/Austin-Animal-Center-Intakes/wter-evkm) and outcome is from [here](https://data.austintexas.gov/Health-and-Community-Services/Austin-Animal-Center-Outcomes/9t4d-g238). \n",
    "\n",
    "In order to work with a single table, we joined the intake and outcome tables using the \"Animal ID\" column and created a single __review.csv__ file. We also didn't consider animals with multiple entries to the facility to keep our dataset simple. If you want to see the original datasets and the merged data with multiple entries, they are available under data/review folder: Austin_Animal_Center_Intakes.csv, Austin_Animal_Center_Outcomes.csv and Austin_Animal_Center_Intakes_Outcomes.csv.\n",
    "\n",
    "__Dataset schema:__ \n",
    "- __Pet ID__ - Unique ID of pet\n",
    "- __Outcome Type__ - State of pet at the time of recording the outcome (0 = not placed, 1 = placed). This is the field to predict.\n",
    "- __Sex upon Outcome__ - Sex of pet at outcome\n",
    "- __Name__ - Name of pet \n",
    "- __Found Location__ - Found location of pet before entered the center\n",
    "- __Intake Type__ - Circumstances bringing the pet to the center\n",
    "- __Intake Condition__ - Health condition of pet when entered the center\n",
    "- __Pet Type__ - Type of pet\n",
    "- __Sex upon Intake__ - Sex of pet when entered the center\n",
    "- __Breed__ - Breed of pet \n",
    "- __Color__ - Color of pet \n",
    "- __Age upon Intake Days__ - Age of pet when entered the center (days)\n",
    "- __Age upon Outcome Days__ - Age of pet at outcome (days)"
   ]
  },
  {
   "cell_type": "code",
   "execution_count": 1,
   "metadata": {
    "tags": []
   },
   "outputs": [
    {
     "name": "stdout",
     "output_type": "stream",
     "text": [
      "Note: you may need to restart the kernel to use updated packages.\n"
     ]
    }
   ],
   "source": [
    "%%capture\n",
    "%pip install -q -r ../requirements.txt"
   ]
  },
  {
   "cell_type": "markdown",
   "metadata": {},
   "source": [
    "## 1. <a name=\"1\">Read the dataset</a>\n",
    "(<a href=\"#0\">Go to top</a>)\n",
    "\n",
    "Let's read the dataset into a dataframe, using Pandas."
   ]
  },
  {
   "cell_type": "code",
   "execution_count": 2,
   "metadata": {
    "tags": []
   },
   "outputs": [
    {
     "name": "stdout",
     "output_type": "stream",
     "text": [
      "The shape of the dataset is: (95485, 13)\n"
     ]
    }
   ],
   "source": [
    "import pandas as pd\n",
    "\n",
    "import warnings\n",
    "warnings.filterwarnings(\"ignore\")\n",
    "  \n",
    "df = pd.read_csv('../data/review/review_dataset.csv')\n",
    "\n",
    "print('The shape of the dataset is:', df.shape)"
   ]
  },
  {
   "cell_type": "markdown",
   "metadata": {},
   "source": [
    "## 2. <a name=\"2\">Exploratory Data Analysis</a>\n",
    "(<a href=\"#0\">Go to top</a>)\n",
    "\n",
    "We will look at number of rows, columns and some simple statistics of the dataset."
   ]
  },
  {
   "cell_type": "code",
   "execution_count": 3,
   "metadata": {
    "tags": []
   },
   "outputs": [
    {
     "data": {
      "text/html": [
       "<div>\n",
       "<style scoped>\n",
       "    .dataframe tbody tr th:only-of-type {\n",
       "        vertical-align: middle;\n",
       "    }\n",
       "\n",
       "    .dataframe tbody tr th {\n",
       "        vertical-align: top;\n",
       "    }\n",
       "\n",
       "    .dataframe thead th {\n",
       "        text-align: right;\n",
       "    }\n",
       "</style>\n",
       "<table border=\"1\" class=\"dataframe\">\n",
       "  <thead>\n",
       "    <tr style=\"text-align: right;\">\n",
       "      <th></th>\n",
       "      <th>Pet ID</th>\n",
       "      <th>Outcome Type</th>\n",
       "      <th>Sex upon Outcome</th>\n",
       "      <th>Name</th>\n",
       "      <th>Found Location</th>\n",
       "      <th>Intake Type</th>\n",
       "      <th>Intake Condition</th>\n",
       "      <th>Pet Type</th>\n",
       "      <th>Sex upon Intake</th>\n",
       "      <th>Breed</th>\n",
       "      <th>Color</th>\n",
       "      <th>Age upon Intake Days</th>\n",
       "      <th>Age upon Outcome Days</th>\n",
       "    </tr>\n",
       "  </thead>\n",
       "  <tbody>\n",
       "    <tr>\n",
       "      <th>0</th>\n",
       "      <td>A794011</td>\n",
       "      <td>1.0</td>\n",
       "      <td>Neutered Male</td>\n",
       "      <td>Chunk</td>\n",
       "      <td>Austin (TX)</td>\n",
       "      <td>Owner Surrender</td>\n",
       "      <td>Normal</td>\n",
       "      <td>Cat</td>\n",
       "      <td>Neutered Male</td>\n",
       "      <td>Domestic Shorthair Mix</td>\n",
       "      <td>Brown Tabby/White</td>\n",
       "      <td>730</td>\n",
       "      <td>730</td>\n",
       "    </tr>\n",
       "    <tr>\n",
       "      <th>1</th>\n",
       "      <td>A776359</td>\n",
       "      <td>1.0</td>\n",
       "      <td>Neutered Male</td>\n",
       "      <td>Gizmo</td>\n",
       "      <td>7201 Levander Loop in Austin (TX)</td>\n",
       "      <td>Stray</td>\n",
       "      <td>Normal</td>\n",
       "      <td>Dog</td>\n",
       "      <td>Intact Male</td>\n",
       "      <td>Chihuahua Shorthair Mix</td>\n",
       "      <td>White/Brown</td>\n",
       "      <td>365</td>\n",
       "      <td>365</td>\n",
       "    </tr>\n",
       "    <tr>\n",
       "      <th>2</th>\n",
       "      <td>A674754</td>\n",
       "      <td>0.0</td>\n",
       "      <td>Intact Male</td>\n",
       "      <td>NaN</td>\n",
       "      <td>12034 Research in Austin (TX)</td>\n",
       "      <td>Stray</td>\n",
       "      <td>Nursing</td>\n",
       "      <td>Cat</td>\n",
       "      <td>Intact Male</td>\n",
       "      <td>Domestic Shorthair Mix</td>\n",
       "      <td>Orange Tabby</td>\n",
       "      <td>6</td>\n",
       "      <td>6</td>\n",
       "    </tr>\n",
       "    <tr>\n",
       "      <th>3</th>\n",
       "      <td>A689724</td>\n",
       "      <td>1.0</td>\n",
       "      <td>Neutered Male</td>\n",
       "      <td>*Donatello</td>\n",
       "      <td>2300 Waterway Bnd in Austin (TX)</td>\n",
       "      <td>Stray</td>\n",
       "      <td>Normal</td>\n",
       "      <td>Cat</td>\n",
       "      <td>Intact Male</td>\n",
       "      <td>Domestic Shorthair Mix</td>\n",
       "      <td>Black</td>\n",
       "      <td>60</td>\n",
       "      <td>60</td>\n",
       "    </tr>\n",
       "    <tr>\n",
       "      <th>4</th>\n",
       "      <td>A680969</td>\n",
       "      <td>1.0</td>\n",
       "      <td>Neutered Male</td>\n",
       "      <td>*Zeus</td>\n",
       "      <td>4701 Staggerbrush Rd in Austin (TX)</td>\n",
       "      <td>Stray</td>\n",
       "      <td>Nursing</td>\n",
       "      <td>Cat</td>\n",
       "      <td>Intact Male</td>\n",
       "      <td>Domestic Shorthair Mix</td>\n",
       "      <td>White/Orange Tabby</td>\n",
       "      <td>7</td>\n",
       "      <td>60</td>\n",
       "    </tr>\n",
       "  </tbody>\n",
       "</table>\n",
       "</div>"
      ],
      "text/plain": [
       "    Pet ID  Outcome Type Sex upon Outcome        Name  \\\n",
       "0  A794011           1.0    Neutered Male       Chunk   \n",
       "1  A776359           1.0    Neutered Male       Gizmo   \n",
       "2  A674754           0.0      Intact Male         NaN   \n",
       "3  A689724           1.0    Neutered Male  *Donatello   \n",
       "4  A680969           1.0    Neutered Male       *Zeus   \n",
       "\n",
       "                        Found Location      Intake Type Intake Condition  \\\n",
       "0                          Austin (TX)  Owner Surrender           Normal   \n",
       "1    7201 Levander Loop in Austin (TX)            Stray           Normal   \n",
       "2        12034 Research in Austin (TX)            Stray          Nursing   \n",
       "3     2300 Waterway Bnd in Austin (TX)            Stray           Normal   \n",
       "4  4701 Staggerbrush Rd in Austin (TX)            Stray          Nursing   \n",
       "\n",
       "  Pet Type Sex upon Intake                    Breed               Color  \\\n",
       "0      Cat   Neutered Male   Domestic Shorthair Mix   Brown Tabby/White   \n",
       "1      Dog     Intact Male  Chihuahua Shorthair Mix         White/Brown   \n",
       "2      Cat     Intact Male   Domestic Shorthair Mix        Orange Tabby   \n",
       "3      Cat     Intact Male   Domestic Shorthair Mix               Black   \n",
       "4      Cat     Intact Male   Domestic Shorthair Mix  White/Orange Tabby   \n",
       "\n",
       "   Age upon Intake Days  Age upon Outcome Days  \n",
       "0                   730                    730  \n",
       "1                   365                    365  \n",
       "2                     6                      6  \n",
       "3                    60                     60  \n",
       "4                     7                     60  "
      ]
     },
     "execution_count": 3,
     "metadata": {},
     "output_type": "execute_result"
    }
   ],
   "source": [
    "# Print the first five rows\n",
    "# NaN means missing data\n",
    "df.head()"
   ]
  },
  {
   "cell_type": "code",
   "execution_count": 4,
   "metadata": {
    "tags": []
   },
   "outputs": [
    {
     "name": "stdout",
     "output_type": "stream",
     "text": [
      "<class 'pandas.core.frame.DataFrame'>\n",
      "RangeIndex: 95485 entries, 0 to 95484\n",
      "Data columns (total 13 columns):\n",
      " #   Column                 Non-Null Count  Dtype  \n",
      "---  ------                 --------------  -----  \n",
      " 0   Pet ID                 95485 non-null  object \n",
      " 1   Outcome Type           95485 non-null  float64\n",
      " 2   Sex upon Outcome       95484 non-null  object \n",
      " 3   Name                   59138 non-null  object \n",
      " 4   Found Location         95485 non-null  object \n",
      " 5   Intake Type            95485 non-null  object \n",
      " 6   Intake Condition       95485 non-null  object \n",
      " 7   Pet Type               95485 non-null  object \n",
      " 8   Sex upon Intake        95484 non-null  object \n",
      " 9   Breed                  95485 non-null  object \n",
      " 10  Color                  95485 non-null  object \n",
      " 11  Age upon Intake Days   95485 non-null  int64  \n",
      " 12  Age upon Outcome Days  95485 non-null  int64  \n",
      "dtypes: float64(1), int64(2), object(10)\n",
      "memory usage: 9.5+ MB\n"
     ]
    }
   ],
   "source": [
    "# Let's see the data types and non-null values for each column\n",
    "df.info()"
   ]
  },
  {
   "cell_type": "code",
   "execution_count": 5,
   "metadata": {
    "tags": []
   },
   "outputs": [
    {
     "data": {
      "text/html": [
       "<div>\n",
       "<style scoped>\n",
       "    .dataframe tbody tr th:only-of-type {\n",
       "        vertical-align: middle;\n",
       "    }\n",
       "\n",
       "    .dataframe tbody tr th {\n",
       "        vertical-align: top;\n",
       "    }\n",
       "\n",
       "    .dataframe thead th {\n",
       "        text-align: right;\n",
       "    }\n",
       "</style>\n",
       "<table border=\"1\" class=\"dataframe\">\n",
       "  <thead>\n",
       "    <tr style=\"text-align: right;\">\n",
       "      <th></th>\n",
       "      <th>Outcome Type</th>\n",
       "      <th>Age upon Intake Days</th>\n",
       "      <th>Age upon Outcome Days</th>\n",
       "    </tr>\n",
       "  </thead>\n",
       "  <tbody>\n",
       "    <tr>\n",
       "      <th>count</th>\n",
       "      <td>95485.000000</td>\n",
       "      <td>95485.000000</td>\n",
       "      <td>95485.000000</td>\n",
       "    </tr>\n",
       "    <tr>\n",
       "      <th>mean</th>\n",
       "      <td>0.564005</td>\n",
       "      <td>703.436959</td>\n",
       "      <td>717.757313</td>\n",
       "    </tr>\n",
       "    <tr>\n",
       "      <th>std</th>\n",
       "      <td>0.495889</td>\n",
       "      <td>1052.252197</td>\n",
       "      <td>1055.023160</td>\n",
       "    </tr>\n",
       "    <tr>\n",
       "      <th>min</th>\n",
       "      <td>0.000000</td>\n",
       "      <td>0.000000</td>\n",
       "      <td>0.000000</td>\n",
       "    </tr>\n",
       "    <tr>\n",
       "      <th>25%</th>\n",
       "      <td>0.000000</td>\n",
       "      <td>30.000000</td>\n",
       "      <td>60.000000</td>\n",
       "    </tr>\n",
       "    <tr>\n",
       "      <th>50%</th>\n",
       "      <td>1.000000</td>\n",
       "      <td>365.000000</td>\n",
       "      <td>365.000000</td>\n",
       "    </tr>\n",
       "    <tr>\n",
       "      <th>75%</th>\n",
       "      <td>1.000000</td>\n",
       "      <td>730.000000</td>\n",
       "      <td>730.000000</td>\n",
       "    </tr>\n",
       "    <tr>\n",
       "      <th>max</th>\n",
       "      <td>1.000000</td>\n",
       "      <td>9125.000000</td>\n",
       "      <td>9125.000000</td>\n",
       "    </tr>\n",
       "  </tbody>\n",
       "</table>\n",
       "</div>"
      ],
      "text/plain": [
       "       Outcome Type  Age upon Intake Days  Age upon Outcome Days\n",
       "count  95485.000000          95485.000000           95485.000000\n",
       "mean       0.564005            703.436959             717.757313\n",
       "std        0.495889           1052.252197            1055.023160\n",
       "min        0.000000              0.000000               0.000000\n",
       "25%        0.000000             30.000000              60.000000\n",
       "50%        1.000000            365.000000             365.000000\n",
       "75%        1.000000            730.000000             730.000000\n",
       "max        1.000000           9125.000000            9125.000000"
      ]
     },
     "execution_count": 5,
     "metadata": {},
     "output_type": "execute_result"
    }
   ],
   "source": [
    "# This prints basic statistics for numerical columns\n",
    "df.describe()"
   ]
  },
  {
   "cell_type": "markdown",
   "metadata": {},
   "source": [
    "Let's separate model features and model target. "
   ]
  },
  {
   "cell_type": "code",
   "execution_count": 6,
   "metadata": {
    "tags": []
   },
   "outputs": [
    {
     "name": "stdout",
     "output_type": "stream",
     "text": [
      "Index(['Pet ID', 'Outcome Type', 'Sex upon Outcome', 'Name', 'Found Location',\n",
      "       'Intake Type', 'Intake Condition', 'Pet Type', 'Sex upon Intake',\n",
      "       'Breed', 'Color', 'Age upon Intake Days', 'Age upon Outcome Days'],\n",
      "      dtype='object')\n"
     ]
    }
   ],
   "source": [
    "print(df.columns)"
   ]
  },
  {
   "cell_type": "code",
   "execution_count": 7,
   "metadata": {
    "tags": []
   },
   "outputs": [
    {
     "name": "stdout",
     "output_type": "stream",
     "text": [
      "Model features:  Index(['Pet ID', 'Sex upon Outcome', 'Name', 'Found Location', 'Intake Type',\n",
      "       'Intake Condition', 'Pet Type', 'Sex upon Intake', 'Breed', 'Color',\n",
      "       'Age upon Intake Days', 'Age upon Outcome Days'],\n",
      "      dtype='object')\n",
      "Model target:  Outcome Type\n"
     ]
    }
   ],
   "source": [
    "model_features = df.columns.drop('Outcome Type')\n",
    "model_target = 'Outcome Type'\n",
    "\n",
    "print('Model features: ', model_features)\n",
    "print('Model target: ', model_target)"
   ]
  },
  {
   "cell_type": "markdown",
   "metadata": {},
   "source": [
    "We can explore the features set further, figuring out first what features are numerical or categorical. Beware that some integer-valued features could actually be categorical features, and some categorical features could be text features. "
   ]
  },
  {
   "cell_type": "code",
   "execution_count": 8,
   "metadata": {
    "tags": []
   },
   "outputs": [
    {
     "name": "stdout",
     "output_type": "stream",
     "text": [
      "Numerical columns: Index(['Age upon Intake Days', 'Age upon Outcome Days'], dtype='object')\n",
      "\n",
      "Categorical columns: Index(['Pet ID', 'Sex upon Outcome', 'Name', 'Found Location', 'Intake Type',\n",
      "       'Intake Condition', 'Pet Type', 'Sex upon Intake', 'Breed', 'Color'],\n",
      "      dtype='object')\n"
     ]
    }
   ],
   "source": [
    "import numpy as np\n",
    "numerical_features_all = df[model_features].select_dtypes(include=np.number).columns\n",
    "print('Numerical columns:',numerical_features_all)\n",
    "\n",
    "print('')\n",
    "\n",
    "categorical_features_all = df[model_features].select_dtypes(include='object').columns\n",
    "print('Categorical columns:',categorical_features_all)\n"
   ]
  },
  {
   "cell_type": "markdown",
   "metadata": {},
   "source": [
    "#### Target distribution\n",
    "\n",
    "Let's check our target distribution."
   ]
  },
  {
   "cell_type": "code",
   "execution_count": 9,
   "metadata": {
    "scrolled": true,
    "tags": []
   },
   "outputs": [
    {
     "data": {
      "image/png": "[encoded data removed]",
      "text/plain": [
       "<Figure size 640x480 with 1 Axes>"
      ]
     },
     "metadata": {},
     "output_type": "display_data"
    }
   ],
   "source": [
    "import matplotlib.pyplot as plt\n",
    "%matplotlib inline\n",
    "\n",
    "df[model_target].value_counts().plot.bar()\n",
    "plt.show()"
   ]
  },
  {
   "cell_type": "markdown",
   "metadata": {},
   "source": [
    "From the target plots we can identify whether or not we are dealing with imbalanced datasets - this means one result type is dominating the other one(s). \n",
    "\n",
    "Handling class imbalance is highly recommended, as the model performance can be greatly impacted. In particular the model may not work well for the infrequent classes, as there are not enough samples to learn patterns from, and so it would be hard for the classifier to identify and match those patterns. \n",
    "\n",
    "We might want to downsample the dominant class or upsample the rare the class, to help with learning its patterns. However, we should only fix the imbalance in training set, without changing the validation and test sets, as these should follow the original distribution. We will perform this task after train/test split. \n"
   ]
  },
  {
   "cell_type": "markdown",
   "metadata": {},
   "source": [
    "## 3. <a name=\"3\">Select features to build the model</a>\n",
    "(<a href=\"#0\">Go to top</a>)\n",
    "\n",
    "This time we build a model using all features. That is, we build a classifier including __numerical, categorical__ and __text__ features. "
   ]
  },
  {
   "cell_type": "code",
   "execution_count": 10,
   "metadata": {
    "tags": []
   },
   "outputs": [],
   "source": [
    "# Grab model features/inputs and target/output\n",
    "\n",
    "# can also grab less numerical features, as some numerical data might not be very useful\n",
    "numerical_features = ['Age upon Intake Days', 'Age upon Outcome Days']\n",
    "\n",
    "# dropping the IDs features, RescuerID and PetID here \n",
    "categorical_features = ['Sex upon Outcome', 'Intake Type',\n",
    "       'Intake Condition', 'Pet Type', 'Sex upon Intake']\n",
    "\n",
    "# from EDA, select the text features\n",
    "text_features = ['Name', 'Found Location', 'Breed', 'Color']\n",
    "    \n",
    "model_features = numerical_features + categorical_features + text_features\n",
    "model_target = 'Outcome Type'"
   ]
  },
  {
   "cell_type": "markdown",
   "metadata": {},
   "source": [
    "#### Cleaning numerical features "
   ]
  },
  {
   "cell_type": "code",
   "execution_count": 11,
   "metadata": {
    "tags": []
   },
   "outputs": [
    {
     "name": "stdout",
     "output_type": "stream",
     "text": [
      "Age upon Intake Days\n"
     ]
    },
    {
     "data": {
      "image/png": "[encoded data removed]",
      "text/plain": [
       "<Figure size 640x480 with 1 Axes>"
      ]
     },
     "metadata": {},
     "output_type": "display_data"
    },
    {
     "name": "stdout",
     "output_type": "stream",
     "text": [
      "Age upon Outcome Days\n"
     ]
    },
    {
     "data": {
      "image/png": "[encoded data removed]",
      "text/plain": [
       "<Figure size 640x480 with 1 Axes>"
      ]
     },
     "metadata": {},
     "output_type": "display_data"
    }
   ],
   "source": [
    "import matplotlib.pyplot as plt\n",
    "%matplotlib inline\n",
    "\n",
    "for c in numerical_features:\n",
    "    print(c)\n",
    "    df[c].plot.hist(bins=5)\n",
    "    plt.show()"
   ]
  },
  {
   "cell_type": "markdown",
   "metadata": {},
   "source": [
    "If for some histograms the values are heavily placed in the first bin, it is good to check for outliers, either checking the min-max values of those particular features and/or explore value ranges."
   ]
  },
  {
   "cell_type": "code",
   "execution_count": 12,
   "metadata": {
    "tags": []
   },
   "outputs": [
    {
     "name": "stdout",
     "output_type": "stream",
     "text": [
      "Age upon Intake Days\n",
      "min: 0 max: 9125\n",
      "Age upon Outcome Days\n",
      "min: 0 max: 9125\n"
     ]
    }
   ],
   "source": [
    "for c in numerical_features:\n",
    "    print(c)\n",
    "    print('min:', df[c].min(), 'max:', df[c].max())"
   ]
  },
  {
   "cell_type": "markdown",
   "metadata": {},
   "source": [
    "With __value_counts()__ function, we can increase the number of histogram bins to 10 for more bins for a more refined view of the numerical features."
   ]
  },
  {
   "cell_type": "code",
   "execution_count": 13,
   "metadata": {
    "tags": []
   },
   "outputs": [
    {
     "name": "stdout",
     "output_type": "stream",
     "text": [
      "Age upon Intake Days\n",
      "(-9.126, 912.5]     74835\n",
      "(912.5, 1825.0]     10647\n",
      "(1825.0, 2737.5]     3471\n",
      "(2737.5, 3650.0]     3998\n",
      "(3650.0, 4562.5]     1234\n",
      "(4562.5, 5475.0]     1031\n",
      "(5475.0, 6387.5]      183\n",
      "(6387.5, 7300.0]       79\n",
      "(7300.0, 8212.5]        5\n",
      "(8212.5, 9125.0]        2\n",
      "Name: count, dtype: int64\n",
      "Age upon Outcome Days\n",
      "(-9.126, 912.5]     74642\n",
      "(912.5, 1825.0]     10699\n",
      "(1825.0, 2737.5]     3465\n",
      "(2737.5, 3650.0]     4080\n",
      "(3650.0, 4562.5]     1263\n",
      "(4562.5, 5475.0]     1061\n",
      "(5475.0, 6387.5]      187\n",
      "(6387.5, 7300.0]       81\n",
      "(7300.0, 8212.5]        5\n",
      "(8212.5, 9125.0]        2\n",
      "Name: count, dtype: int64\n"
     ]
    }
   ],
   "source": [
    "for c in numerical_features: \n",
    "    print(c)\n",
    "    print(df[c].value_counts(bins=10, sort=False))\n",
    "    plt.show()"
   ]
  },
  {
   "cell_type": "markdown",
   "metadata": {},
   "source": [
    "If any outliers are identified as very likely wrong values, dropping them could improve the numerical values histograms, and later overall model performance. While a good rule of thumb is that anything not in the range of (Q1 - 1.5 IQR) and (Q3 + 1.5 IQR) is an outlier, other rules for removing 'outliers' should be considered as well. "
   ]
  },
  {
   "cell_type": "markdown",
   "metadata": {},
   "source": [
    "Let's check missing values for these numerical features."
   ]
  },
  {
   "cell_type": "code",
   "execution_count": 14,
   "metadata": {
    "tags": []
   },
   "outputs": [
    {
     "name": "stdout",
     "output_type": "stream",
     "text": [
      "Age upon Intake Days     0\n",
      "Age upon Outcome Days    0\n",
      "dtype: int64\n"
     ]
    }
   ],
   "source": [
    "print(df[numerical_features].isna().sum())"
   ]
  },
  {
   "cell_type": "markdown",
   "metadata": {},
   "source": [
    "If any missing values, as a quick fix, we can apply mean imputation. This will replace the missing values with the mean value of the corresponding column.\n",
    "\n",
    "__Note__: The statistically correct way to perform mean/mode imputation before training an ML model is to compute the column-wise means on the training data only, and then use these values to impute missing data in both the train and test sets. So, you'll need to split your dataset first. Same goes for any other transformations we would like to apply to these numerical features, such as scaling. \n"
   ]
  },
  {
   "cell_type": "markdown",
   "metadata": {},
   "source": [
    "#### Cleaning categorical features \n",
    "\n",
    "Let's also examine the categorical features."
   ]
  },
  {
   "cell_type": "code",
   "execution_count": 15,
   "metadata": {
    "tags": []
   },
   "outputs": [
    {
     "name": "stdout",
     "output_type": "stream",
     "text": [
      "Sex upon Outcome\n",
      "['Neutered Male' 'Intact Male' 'Intact Female' 'Unknown' 'Spayed Female'\n",
      " nan]\n",
      "Intake Type\n",
      "['Owner Surrender' 'Stray' 'Wildlife' 'Public Assist' 'Euthanasia Request'\n",
      " 'Abandoned']\n",
      "Intake Condition\n",
      "['Normal' 'Nursing' 'Sick' 'Injured' 'Aged' 'Feral' 'Pregnant' 'Other'\n",
      " 'Behavior' 'Medical']\n",
      "Pet Type\n",
      "['Cat' 'Dog' 'Other' 'Bird' 'Livestock']\n",
      "Sex upon Intake\n",
      "['Neutered Male' 'Intact Male' 'Intact Female' 'Unknown' 'Spayed Female'\n",
      " nan]\n"
     ]
    }
   ],
   "source": [
    "for c in categorical_features:\n",
    "    print(c)\n",
    "    print(df[c].unique()) #value_counts())"
   ]
  },
  {
   "cell_type": "markdown",
   "metadata": {},
   "source": [
    "__Note on boolean type features__: Some categories might be of boolean type, like __False__ and __True__. The booleans will raise errors when trying to encode the categoricals with sklearn encoders, none of which accept boolean types. If using pandas get_dummies to one-hot encode the categoricals, there's no need to convert the booleans. However, get_dummies is trickier to use with sklearn's Pipeline and GridSearch. \n",
    "\n",
    "One way to deal with the booleans is to convert them to strings, by using a mask and a map changing only the booleans. Another way to handle the booleans is to convert them to strings by changing the type of all categoricals to 'str'. This will also affect the nans, basically performing imputation of the nans with a 'nans' placeholder value! \n",
    "\n",
    "Applying the type conversion to both categoricals and text features, takes care of the nans in the text fields as well. In case other imputations are planned for the categoricals and/or test fields, notice that the masking shown above leaves the nans unchanged."
   ]
  },
  {
   "cell_type": "code",
   "execution_count": 16,
   "metadata": {
    "tags": []
   },
   "outputs": [],
   "source": [
    "df[categorical_features + text_features] = df[categorical_features + text_features].astype('str')"
   ]
  },
  {
   "cell_type": "markdown",
   "metadata": {},
   "source": [
    "Let's have a check on missing values for the categorical features (and text features here)."
   ]
  },
  {
   "cell_type": "code",
   "execution_count": 17,
   "metadata": {
    "tags": []
   },
   "outputs": [
    {
     "name": "stdout",
     "output_type": "stream",
     "text": [
      "Sex upon Outcome    0\n",
      "Intake Type         0\n",
      "Intake Condition    0\n",
      "Pet Type            0\n",
      "Sex upon Intake     0\n",
      "Name                0\n",
      "Found Location      0\n",
      "Breed               0\n",
      "Color               0\n",
      "dtype: int64\n"
     ]
    }
   ],
   "source": [
    "print(df[categorical_features + text_features].isna().sum())"
   ]
  },
  {
   "cell_type": "markdown",
   "metadata": {},
   "source": [
    "Converting categoricals into useful numerical features will also have to wait until after the train/test split."
   ]
  },
  {
   "cell_type": "markdown",
   "metadata": {},
   "source": [
    "#### Cleaning text features \n",
    "\n",
    "Also a good idea to look at the text fields. Text cleaning can be performed here, before train/test split, with less code. "
   ]
  },
  {
   "cell_type": "code",
   "execution_count": 18,
   "metadata": {
    "tags": []
   },
   "outputs": [
    {
     "name": "stdout",
     "output_type": "stream",
     "text": [
      "Name\n",
      "['Chunk' 'Gizmo' 'nan' ... '*Lingonberry' 'Guawp' '*Squanchy']\n",
      "Found Location\n",
      "['Austin (TX)' '7201 Levander Loop in Austin (TX)'\n",
      " '12034 Research in Austin (TX)' ... '4612 Sherwyn Drive in Austin (TX)'\n",
      " '16010 Voelker Ln in Austin (TX)' '2211 Santa Rita Street in Austin (TX)']\n",
      "Breed\n",
      "['Domestic Shorthair Mix' 'Chihuahua Shorthair Mix' 'Domestic Shorthair'\n",
      " ... 'Unknown' 'Bichon Frise/Lhasa Apso' 'Treeing Cur']\n",
      "Color\n",
      "['Brown Tabby/White' 'White/Brown' 'Orange Tabby' 'Black'\n",
      " 'White/Orange Tabby' 'Blue/White' 'Brown Tabby' 'Gray' 'Calico'\n",
      " 'Brown/Black' 'White/Tan' 'White' 'Brown' 'Black/White' 'Brown/White'\n",
      " 'Black/Brown' 'Chocolate/White' 'Red' 'White/White' 'Brown Brindle/White'\n",
      " 'Gray/Black' 'Tortie' 'Tan' 'White/Blue Tabby' 'Brown/Brown' 'Black/Gray'\n",
      " 'Blue' 'Cream Tabby' 'Brown/Gray' 'Blue Tabby/White' 'Red/White'\n",
      " 'Orange Tabby/White' 'Brown Merle/White' 'Tricolor' 'Apricot' 'Black/Tan'\n",
      " 'Tortie Point' 'Tan/Black' 'Torbie/Brown Tabby' 'White/Black'\n",
      " 'Blue Tabby' 'Blue Tick' 'White/Gray' 'Black/Tricolor' 'Chocolate/Tan'\n",
      " 'White/Brown Tabby' 'White/Brown Brindle' 'Lynx Point' 'Buff' 'Torbie'\n",
      " 'White/Buff' 'Brown Brindle' 'Cream' 'White/Blue' 'Blue/Tan'\n",
      " 'Black Brindle/White' 'Black/Yellow Brindle' 'Chocolate/Black'\n",
      " 'Black/Red' 'Fawn/White' 'Chocolate' 'Blue/Brown Brindle' 'Tan/White'\n",
      " 'Cream Tabby/White' 'Tan/Gray' 'Sable' 'Red/Buff' 'Blue Merle'\n",
      " 'Lynx Point/White' 'Yellow' 'Black/Brown Brindle' 'Brown/Tan'\n",
      " 'Silver Tabby' 'White/Red' 'Brown/Orange' 'Tricolor/White' 'Sable/Black'\n",
      " 'Gray/White' 'Orange/White' 'Brown Tiger/Brown' 'Brown Tabby/Black'\n",
      " 'Torbie/White' 'Yellow Brindle' 'Cream/White' 'Brown Brindle/Black'\n",
      " 'Black/Chocolate' 'Gold/White' 'White/Orange' 'Black Tabby'\n",
      " 'Tricolor/Brown' 'Seal Point/Gray' 'White/Tricolor' 'Silver/Tan'\n",
      " 'Gray Tabby/White' 'Black Brindle' 'Brown/Tricolor' 'Black Tabby/White'\n",
      " 'Yellow/White' 'Cream/Black' 'Gray/Tortie' 'Flame Point' 'Sable/White'\n",
      " 'Seal Point' 'Chocolate Point' 'Red/Tan' 'Gray/Tan' 'Calico Point/Gray'\n",
      " 'Black/Black' 'Red/Cream' 'White/Red Merle' 'Tortie/White' 'Red/Black'\n",
      " 'Green/Silver' 'Brown/Red' 'Gray Tabby' 'Green/Gray' 'Gray/Brown'\n",
      " 'Gray/Blue Merle' 'White/Blue Merle' 'Blue Cream' 'Silver Tabby/White'\n",
      " 'Black/Cream' 'Lilac Point' 'Gray Tabby/Black' 'Brown Merle' 'Gold/Cream'\n",
      " 'Gold' 'Blue Merle/Tricolor' 'Buff/White' 'White/Cream' 'Red Merle/White'\n",
      " 'Fawn/Black' 'Yellow/Yellow' 'Sable/Brown' 'Black/Black Tabby'\n",
      " 'White/Gray Tabby' 'Calico/White' 'Tricolor/Black' 'Fawn' 'Blue/Blue'\n",
      " 'White/Chocolate' 'Tan/Fawn' 'Blue Merle/White' 'Lynx Point/Blue'\n",
      " 'Blue Merle/Brown' 'Blue Merle/Tan' 'White/Seal Point' 'Liver/Tan'\n",
      " 'Blue Point/White' 'Liver/White' 'Chocolate Point/White' 'Gray/Pink'\n",
      " 'Black Brindle/Blue' 'Black Smoke' 'Brown Brindle/Red Tick' 'Cream/Brown'\n",
      " 'Black/Blue Tick' 'Red Tick/Blue Tick' 'White/Yellow' 'Orange'\n",
      " 'Torbie/Brown' 'Sable/Tan' 'Yellow Brindle/White' 'Gray/Orange'\n",
      " 'Calico Point' 'Red Tick' 'White/Red Tick' 'Blue Tick/Tan' 'Brown/Cream'\n",
      " 'Cream/Tan' 'Tan/Brown' 'Buff/Brown' 'Tan/Tan' 'Chocolate/Tricolor'\n",
      " 'Calico Point/White' 'Brown Brindle/Brown Brindle' 'Green/Brown'\n",
      " 'Black/Silver' 'White/Calico' 'Brown/Chocolate' 'Cream/Silver'\n",
      " 'White/Brown Merle' 'Red/Brown' 'White/Fawn' 'White/Gray Tiger'\n",
      " 'Tan/Gold' 'Tan/Red' 'Tan/Silver' 'Lilac Point/White' 'Buff/Black'\n",
      " 'Cream/Brown Merle' 'White/Black Brindle' 'Silver' 'Lilac Point/Gray'\n",
      " 'Black Smoke/White' 'Pink' 'Blue Tick/Tricolor' 'Blue Tick/Black'\n",
      " 'Seal Point/White' 'Blue Point' 'Silver/Brown' 'Fawn/Brown'\n",
      " 'Black Brindle/Brown' 'Blue Merle/Black' 'Blue Cream/White'\n",
      " 'White/Blue Cream' 'Gray/Gray' 'Tortie/Tortie' 'Green' 'Brown/Buff'\n",
      " 'Chocolate/Brown Tabby' 'Tortie/Blue Cream' 'Brown/Fawn' 'White/Tortie'\n",
      " 'Orange Tabby/Orange Tabby' 'Tortie/Black' 'White/Cream Tabby'\n",
      " 'Tan/Cream' 'Red/Yellow' 'Blue/Tortie' 'Lynx Point/Brown Tabby'\n",
      " 'Black Tabby/Orange' 'Blue/Tricolor' 'Black/Blue' 'White/Agouti'\n",
      " 'Gold/Yellow' 'Chocolate/Fawn' 'Orange/Orange Tabby'\n",
      " 'Tricolor/Blue Merle' 'Brown/Brown Tabby' 'Black/Orange'\n",
      " 'Cream/Blue Point' 'Calico/Tricolor' 'Agouti' 'Calico/Black'\n",
      " 'Brown Brindle/Brown' 'Lilac Point/Black' 'Tan/Blue Merle'\n",
      " 'Blue Tabby/Black' 'Silver/Black' 'Tan/Blue' 'Black/Yellow'\n",
      " 'Yellow/Green' 'Flame Point/Cream' 'Agouti/White' 'Brown/Green'\n",
      " 'Yellow/Black' 'Torbie/Blue Tabby' 'White/Black Tabby'\n",
      " 'Blue Merle/Red Merle' 'Cream/Orange' 'Gray/Cream' 'Silver/Chocolate'\n",
      " 'Tan/Tricolor' 'Red Merle' 'Chocolate/Cream' 'Tan/Buff'\n",
      " 'Brown Tiger/White' 'Blue/Gray' 'Gray Tabby/Gray' 'Chocolate/Red'\n",
      " 'Black Brindle/Black' 'Gray/Blue' 'Tricolor/Blue' 'Red Tick/Brown'\n",
      " 'Yellow/Blue' 'Gray/Yellow' 'Brown/Liver' 'Red/Red' 'Silver/Orange'\n",
      " 'Black/Pink' 'Tricolor/Tan' 'Calico/Brown' 'Tortie Point/Lynx Point'\n",
      " 'Cream/Blue' 'Green/Red' 'Tortie/Orange' 'Gray/Red' 'Black/Black Smoke'\n",
      " 'Buff/Tan' 'Brown/Yellow' 'Fawn/Blue' 'Red/Tricolor' 'Fawn/Cream'\n",
      " 'Silver/Red' 'Brown Tabby/Calico' 'Black/Blue Merle' 'Yellow/Orange'\n",
      " 'Brown Tabby/Brown' 'Blue Tick/Red' 'Seal Point/Cream'\n",
      " 'Cream Tabby/Orange' 'Chocolate/Blue Tick' 'Red/Blue'\n",
      " 'Blue Cream/Blue Tiger' 'Blue/Black' 'Brown Tiger' 'Brown Merle/Tan'\n",
      " 'Fawn/Tan' 'Brown Tabby/Orange' 'Blue Smoke' 'Red Tick/White'\n",
      " 'White/Apricot' 'White/Liver' 'Red/Gold' 'Green/Yellow' 'Red/Red Merle'\n",
      " 'Gold/Tan' 'Fawn/Tricolor' 'Blue Merle/Blue Merle' 'Red/Silver'\n",
      " 'Calico/Orange' 'Brown Tabby/Silver' 'Blue Tick/Red Tick'\n",
      " 'Orange Tabby/Brown' 'Apricot/Brown' 'Red/Red Tick' 'Gray/Tricolor'\n",
      " 'Black/Buff' 'Black/Green' 'Black/Black Brindle' 'Orange/Black'\n",
      " 'Tortie Point/White' 'White/Liver Tick' 'Gold/Brown' 'Red Merle/Black'\n",
      " 'Apricot/White' 'Brown Tabby/Brown Tabby' 'Cream/Seal Point'\n",
      " 'Tan/Red Merle' 'Gray/Green' 'Chocolate/Brown' 'Buff/Cream' 'Buff/Red'\n",
      " 'Brown/Silver' 'Blue Tick/Brown' 'Brown Tabby/Tortie' 'Blue Tiger/White'\n",
      " 'Tan/Chocolate Point' 'Black/Fawn' 'Blue/Brown' 'White/Blue Tick'\n",
      " 'Blue Tick/White' 'Orange Tabby/Orange' 'Blue Tick/Brown Brindle'\n",
      " 'White/Gold' 'Black Smoke/Brown Tabby' 'Red/Gray'\n",
      " 'Brown Brindle/Tricolor' 'Orange/Brown' 'Gray/Gold' 'Liver Tick/White'\n",
      " 'Black Smoke/Black Tiger' 'Brown/Red Merle' 'Sable/Buff'\n",
      " 'Gray Tabby/Brown Tabby' 'Gold/Silver' 'Seal Point/Brown'\n",
      " 'Silver Lynx Point' 'Black/Gold' 'Liver' 'Yellow/Tan' 'Blue Tiger'\n",
      " 'Tan/Yellow' 'Orange/Tan' 'Lynx Point/Tortie Point' 'Brown Tabby/Gray'\n",
      " 'Sable/Cream' 'White/Chocolate Point' 'White/Yellow Brindle'\n",
      " 'Black Tiger/White' 'Calico/Gray Tabby' 'Buff/Gray' 'Tricolor/Silver'\n",
      " 'Cream/Red' 'Gold/Buff' 'Liver Tick' 'Brown Brindle/Tan'\n",
      " 'Tricolor/Blue Tick' 'White/Pink' 'Sable/Gray' 'Brown/Brown Brindle'\n",
      " 'Orange Tabby/Tortie Point' 'Chocolate/Chocolate' 'Yellow/Gray'\n",
      " 'Chocolate Point/Cream' 'Black Brindle/Brown Brindle' 'Yellow/Cream'\n",
      " 'Gold/Black' 'Tan/Yellow Brindle' 'Red Tick/Tricolor'\n",
      " 'Brown Merle/Brown Tabby' 'Flame Point/White' 'Calico/Calico'\n",
      " 'Orange Tabby/Apricot' 'Blue/Calico' 'Brown/Black Smoke' 'Green/Black'\n",
      " 'Calico Point/Lynx Point' 'Torbie/Gray' 'Tortie/Calico'\n",
      " 'Brown Tabby/Black Tabby' 'Tortie/Blue' 'White/Lynx Point'\n",
      " 'Red Tick/Brown Brindle' 'Gold/Gray' 'Silver/White' 'Blue/Cream'\n",
      " 'Blue Tabby/Cream' 'Black Smoke/Blue Tick' 'Tricolor/Cream'\n",
      " 'Gray Tabby/Orange' 'Brown Tabby/Blue' 'Blue Tabby/Buff' 'Tricolor/Red'\n",
      " 'Chocolate/Gold' 'Brown Merle/Brown' 'Cream/Gray' 'Torbie/Calico'\n",
      " 'Yellow/Red' 'Tricolor/Gray' 'White/Silver Tabby' 'Red Tick/Tan'\n",
      " 'Orange/Gray' 'Cream Tabby/Cream Tabby' 'Black Tabby/Black'\n",
      " 'Cream/Tricolor' 'Yellow/Orange Tabby' 'Orange Tabby/Cream'\n",
      " 'Green/Orange' 'Gray/Silver' 'Tricolor/Brown Brindle' 'Black/Tortie'\n",
      " 'White/Lilac Point' 'Black/Brown Merle' 'Blue Tabby/Tan' 'Fawn/Chocolate'\n",
      " 'Gold/Gold' 'White/Silver' 'Blue/Green' 'Blue Merle/Gray'\n",
      " 'Black Smoke/Black' 'Tan/Red Tick' 'Tan/Brown Brindle' 'Orange Tiger'\n",
      " 'Green/Blue' 'Gray/Gray Tabby' 'Blue Cream/Tortie' 'Blue Merle/Cream'\n",
      " 'Silver Lynx Point/White' 'Brown/Pink' 'Tricolor/Chocolate'\n",
      " 'Red Merle/Tricolor' 'Calico/Blue Cream' 'Red Tick/Red'\n",
      " 'Lilac Point/Cream' 'Tan/Apricot' 'Calico/Brown Tabby' 'Blue Smoke/Brown'\n",
      " 'Brown Tabby/Gray Tabby' 'Brown Brindle/Blue Tick' 'Brown/Red Tick'\n",
      " 'Blue Point/Cream' 'Agouti/Gray' 'Blue Smoke/White' 'Agouti/Brown Tabby'\n",
      " 'Blue/Silver' 'Yellow Brindle/Blue' 'Seal Point/Buff'\n",
      " 'Tortie/Black Smoke' 'Torbie/Black' 'Red Merle/Brown Merle' 'Silver/Gray'\n",
      " 'Green/White' 'Brown Brindle/Blue' 'Black Tiger' 'Black/Brown Tabby'\n",
      " 'Sable/Red' 'White/Black Smoke' 'Lynx Point/Tan' 'Black/Gray Tabby'\n",
      " 'Black Smoke/Brown' 'Chocolate/Brown Merle' 'Red/Green' 'Tricolor/Calico'\n",
      " 'Chocolate/Yellow' 'Black Brindle/Blue Tick' 'Gray/Buff'\n",
      " 'Brown/Blue Merle' 'Brown/Blue' 'Black Brindle/Tan' 'Brown/Black Tabby'\n",
      " 'Brown Merle/Black' 'Cream/Red Tick' 'Blue/Yellow' 'Chocolate/Gray'\n",
      " 'Brown Merle/Chocolate' 'White/Brown Tiger' 'Gray/Fawn'\n",
      " 'Red Merle/Red Merle' 'Tricolor/Orange' 'Yellow/Brown' 'Red Tick/Black'\n",
      " 'Red Tick/Brown Merle' 'Silver/Blue' 'Ruddy/Cream' 'Orange/Blue'\n",
      " 'Lynx Point/Gray' 'Fawn/Gray' 'Blue Merle/Brown Brindle'\n",
      " 'Black Smoke/Chocolate' 'Black Tabby/Gray Tabby' 'Blue Tabby/Orange'\n",
      " 'Brown/Brown Merle' 'Tricolor/Tricolor' 'Chocolate/Red Tick'\n",
      " 'Chocolate/Liver Tick' 'Tortie/Brown' 'Silver Tabby/Black'\n",
      " 'Tan/Cream Tabby' 'Tortie Point/Cream' 'Liver/Liver Tick' 'Cream/Cream'\n",
      " 'Brown Brindle/Brown Merle' 'Tan/Brown Merle' 'Blue/Orange' 'Liver/Buff'\n",
      " 'Brown Tabby/Orange Tabby' 'Tricolor/Brown Merle' 'Lynx Point/Cream'\n",
      " 'Torbie/Blue Cream' 'Blue Smoke/Gray' 'White/Black Tiger'\n",
      " 'Lynx Point/Gray Tabby' 'White/Calico Point' 'Brown Tabby/Black Brindle'\n",
      " 'Tricolor/Red Tick' 'Blue/Yellow Brindle' 'Silver/Cream'\n",
      " 'Brown/Black Brindle' 'Brown Brindle/Blue Cream'\n",
      " 'Cream Tabby/Orange Tabby' 'Brown/Apricot' 'Tortie Point/Blue'\n",
      " 'Blue Cream/Buff' 'Tortie/Blue Tabby' 'Sable/Red Merle'\n",
      " 'Black/Seal Point' 'Agouti/Cream' 'Blue Tabby/Blue Cream' 'White/Green'\n",
      " 'Blue Cream/Blue Tabby' 'Brown Brindle/Gray' 'Torbie/Silver Tabby'\n",
      " 'Red Merle/Tan' 'Buff/Yellow' 'Brown Tabby/Lynx Point' 'Black Tabby/Gray'\n",
      " 'Black/Silver Tabby' 'Chocolate/Brown Brindle' 'Red/Brown Brindle'\n",
      " 'Cream Tiger' 'Orange Tabby/Black' 'Brown Brindle/Liver Tick'\n",
      " 'Blue Tabby/Tortie' 'White/Flame Point' 'Tortie Point/Seal Point']\n"
     ]
    }
   ],
   "source": [
    "for c in text_features:\n",
    "    print(c)\n",
    "    print(df[c].unique()) #value_counts())"
   ]
  },
  {
   "cell_type": "markdown",
   "metadata": {},
   "source": [
    "We re-use the helper functions from the 'Text processing' notebook above.\n",
    "\n",
    "__Warning__: cleaning stage can take a few minutes, depending on how much text is there to process."
   ]
  },
  {
   "cell_type": "code",
   "execution_count": 19,
   "metadata": {
    "tags": []
   },
   "outputs": [
    {
     "name": "stdout",
     "output_type": "stream",
     "text": [
      "Text cleaning:  Name\n",
      "Text cleaning:  Found Location\n",
      "Text cleaning:  Breed\n",
      "Text cleaning:  Color\n"
     ]
    }
   ],
   "source": [
    "# Prepare cleaning functions\n",
    "import re, string\n",
    "import nltk\n",
    "from nltk.stem import SnowballStemmer\n",
    "\n",
    "stop_words = [\"a\", \"an\", \"the\", \"this\", \"that\", \"is\", \"it\", \"to\", \"and\"]\n",
    "\n",
    "stemmer = SnowballStemmer('english')\n",
    "\n",
    "def preProcessText(text):\n",
    "    # lowercase and strip leading/trailing white space\n",
    "    text = text.lower().strip()\n",
    "    \n",
    "    # remove HTML tags\n",
    "    text = re.compile('<.*?>').sub('', text)\n",
    "    \n",
    "    # remove punctuation\n",
    "    text = re.compile('[%s]' % re.escape(string.punctuation)).sub(' ', text)\n",
    "    \n",
    "    # remove extra white space\n",
    "    text = re.sub('\\s+', ' ', text)\n",
    "    \n",
    "    return text\n",
    "\n",
    "def lexiconProcess(text, stop_words, stemmer):\n",
    "    filtered_sentence = []\n",
    "    words = text.split(\" \")\n",
    "    for w in words:\n",
    "        if w not in stop_words:\n",
    "            filtered_sentence.append(stemmer.stem(w))\n",
    "    text = \" \".join(filtered_sentence)\n",
    "    \n",
    "    return text\n",
    "\n",
    "def cleanSentence(text, stop_words, stemmer):\n",
    "    return lexiconProcess(preProcessText(text), stop_words, stemmer)\n",
    "\n",
    "# Clean the text features\n",
    "for c in text_features:\n",
    "    print('Text cleaning: ', c)\n",
    "    df[c] = [cleanSentence(item, stop_words, stemmer) for item in df[c].values]"
   ]
  },
  {
   "cell_type": "markdown",
   "metadata": {},
   "source": [
    "The cleaned text features are ready to be vectorized after the train/test split."
   ]
  },
  {
   "cell_type": "markdown",
   "metadata": {},
   "source": [
    "__Note__: more exploratory data analysis might reveal other important hidden atributes and/or relationships of the model features considered. "
   ]
  },
  {
   "cell_type": "markdown",
   "metadata": {},
   "source": [
    "## 4. <a name=\"4\">Training, validation, and test subsets</a>\n",
    "(<a href=\"#0\">Go to top</a>)\n",
    "\n",
    "We will split our dataset into training (80%), validation (10%), and test (10%) subsets using sklearn's [__train_test_split()__](https://scikit-learn.org/stable/modules/generated/sklearn.model_selection.train_test_split.html) function twice."
   ]
  },
  {
   "cell_type": "code",
   "execution_count": 20,
   "metadata": {
    "tags": []
   },
   "outputs": [],
   "source": [
    "from sklearn.model_selection import train_test_split\n",
    "\n",
    "train_data, test_data = train_test_split(df, test_size=0.2, shuffle=True, random_state=23)\n",
    "val_data, test_data = train_test_split(test_data, test_size=0.5, shuffle=True, random_state=23)"
   ]
  },
  {
   "cell_type": "markdown",
   "metadata": {},
   "source": [
    "#### Target balancing"
   ]
  },
  {
   "cell_type": "code",
   "execution_count": 21,
   "metadata": {
    "tags": []
   },
   "outputs": [
    {
     "name": "stdout",
     "output_type": "stream",
     "text": [
      "Training set shape: (76388, 13)\n",
      "Class 0 samples in the training set: 33357\n",
      "Class 1 samples in the training set: 43031\n",
      "Class 0 samples in the test set: 4163\n",
      "Class 1 samples in the test set: 5386\n"
     ]
    }
   ],
   "source": [
    "print('Training set shape:', train_data.shape)\n",
    "\n",
    "print('Class 0 samples in the training set:', sum(train_data[model_target] == 0))\n",
    "print('Class 1 samples in the training set:', sum(train_data[model_target] == 1))\n",
    "\n",
    "print('Class 0 samples in the test set:', sum(test_data[model_target] == 0))\n",
    "print('Class 1 samples in the test set:', sum(test_data[model_target] == 1))"
   ]
  },
  {
   "cell_type": "markdown",
   "metadata": {},
   "source": [
    "__Important note:__ We want to fix the imbalance only in training set. We shouldn't change the validation and test sets, as these should follow the original distribution."
   ]
  },
  {
   "cell_type": "code",
   "execution_count": 22,
   "metadata": {
    "tags": []
   },
   "outputs": [],
   "source": [
    "from sklearn.utils import shuffle\n",
    "\n",
    "class_0_no = train_data[train_data[model_target] == 0]\n",
    "class_1_no = train_data[train_data[model_target] == 1]\n",
    "\n",
    "upsampled_class_0_no = class_0_no.sample(n=len(class_1_no), replace=True, random_state=42)\n",
    "\n",
    "train_data = pd.concat([class_1_no, upsampled_class_0_no])\n",
    "train_data = shuffle(train_data)"
   ]
  },
  {
   "cell_type": "code",
   "execution_count": 23,
   "metadata": {
    "tags": []
   },
   "outputs": [
    {
     "name": "stdout",
     "output_type": "stream",
     "text": [
      "Training set shape: (86062, 13)\n",
      "Class 1 samples in the training set: 43031\n",
      "Class 0 samples in the training set: 43031\n"
     ]
    }
   ],
   "source": [
    "print('Training set shape:', train_data.shape)\n",
    "\n",
    "print('Class 1 samples in the training set:', sum(train_data[model_target] == 1))\n",
    "print('Class 0 samples in the training set:', sum(train_data[model_target] == 0))"
   ]
  },
  {
   "cell_type": "markdown",
   "metadata": {},
   "source": [
    "## 5. <a name=\"5\">Data processing with Pipeline and ColumnTransformer</a>\n",
    "(<a href=\"#0\">Go to top</a>)\n",
    "\n",
    "We can use the composite Pipeline of Day 2 to train and tune a neural network in sklearn, using its implementation of neural network __MLPClassifier__. However, sklearn is not a neural network framework, lacking access to large scale optimization techniques with GPU support and more neural network related utility functions. \n",
    " \n",
    "We instead build a neural network with __MXNet/Gluon__. While for classic, non-neural algorithms, MXNet/Gluon is not particularly useful, using an actual deep learning framework for neural network experimentation provides more flexibility and customization.\n",
    "\n",
    "Choice of model and hosting platform aside, we can still reuse the collective ColumnTransformer from Day 2 to preprocess the data for neural network training, validation and test, ensuring that the transformations learned on the train data are performed accordingly on the training, validation and test datasets."
   ]
  },
  {
   "cell_type": "code",
   "execution_count": 24,
   "metadata": {
    "tags": []
   },
   "outputs": [
    {
     "name": "stdout",
     "output_type": "stream",
     "text": [
      "Datasets shapes before processing:  (86062, 11) (9548, 11) (9549, 11)\n",
      "Datasets shapes after processing:  (86062, 235) (9548, 235) (9549, 235)\n"
     ]
    }
   ],
   "source": [
    "from sklearn.impute import SimpleImputer\n",
    "from sklearn.preprocessing import OneHotEncoder, MinMaxScaler\n",
    "from sklearn.feature_extraction.text import CountVectorizer\n",
    "from sklearn.pipeline import Pipeline\n",
    "from sklearn.compose import ColumnTransformer\n",
    "from sklearn.tree import DecisionTreeClassifier\n",
    "from sklearn.metrics import classification_report\n",
    "from sklearn.metrics import accuracy_score\n",
    "\n",
    "\n",
    "### COLUMN_TRANSFORMER ###\n",
    "##########################\n",
    "\n",
    "# Preprocess the numerical features\n",
    "numerical_processor = Pipeline([\n",
    "    ('num_imputer', SimpleImputer(strategy='mean')),\n",
    "    ('num_scaler', MinMaxScaler()) # Shown in case is needed, not a must with Decision Trees\n",
    "                                ])\n",
    "                  \n",
    "# Preprocess the categorical features\n",
    "categorical_processor = Pipeline([\n",
    "    ('cat_imputer', SimpleImputer(strategy='constant', fill_value='missing')), # Shown in case is needed, no effect here as we already imputed with 'nan' strings\n",
    "    ('cat_encoder', OneHotEncoder(handle_unknown='ignore')) # handle_unknown tells it to ignore (rather than throw an error for) any value that was not present in the initial training set.\n",
    "                                ])\n",
    "\n",
    "# Preprocess 1st text feature\n",
    "text_processor_0 = Pipeline([\n",
    "    ('text_vect_0', CountVectorizer(binary=True, max_features=50))\n",
    "                                ])\n",
    "\n",
    "# Preprocess 2nd text feature (larger vocabulary)\n",
    "text_precessor_1 = Pipeline([\n",
    "    ('text_vect_1', CountVectorizer(binary=True, max_features=150))\n",
    "                                ])\n",
    "\n",
    "# Combine all data preprocessors from above (add more, if you choose to define more!)\n",
    "# For each processor/step specify: a name, the actual process, and finally the features to be processed\n",
    "data_preprocessor = ColumnTransformer([\n",
    "    ('numerical_pre', numerical_processor, numerical_features),\n",
    "    ('categorical_pre', categorical_processor, categorical_features),\n",
    "    ('text_pre_0', text_processor_0, text_features[0]),\n",
    "    ('text_pre_1', text_precessor_1, text_features[1])\n",
    "                                    ]) \n",
    "\n",
    "### DATA PREPROCESSING ###\n",
    "##########################\n",
    "\n",
    "# Get train data to train the network\n",
    "X_train = train_data[model_features]\n",
    "y_train = train_data[model_target]\n",
    "\n",
    "# Get validation data to validate the network \n",
    "X_val = val_data[model_features]\n",
    "y_val = val_data[model_target]\n",
    "\n",
    "# Get test data to test the network\n",
    "X_test = test_data[model_features]\n",
    "y_test = test_data[model_target]\n",
    "\n",
    "print('Datasets shapes before processing: ', X_train.shape, X_val.shape, X_test.shape)\n",
    "\n",
    "X_train = data_preprocessor.fit_transform(X_train).toarray()\n",
    "X_val = data_preprocessor.transform(X_val).toarray()\n",
    "X_test = data_preprocessor.transform(X_test).toarray()\n",
    "\n",
    "print('Datasets shapes after processing: ', X_train.shape, X_val.shape, X_test.shape)"
   ]
  },
  {
   "cell_type": "markdown",
   "metadata": {},
   "source": [
    "## 6. <a name=\"6\">Train a classifier with SageMaker build-in algorithm</a>\n",
    "(<a href=\"#0\">Go to top</a>)\n"
   ]
  },
  {
   "cell_type": "markdown",
   "metadata": {},
   "source": [
    "### Fitting the classifier\n",
    "\n",
    "We will call the Sagemaker `LinearLearner()` below. \n",
    "* __Compute power:__ We will use `instance_count` and `instance_type` parameters. This example uses `ml.m4.xlarge` resource for training. We can change the instance type for our needs (For example GPUs for neural networks). \n",
    "* __Model type:__ `predictor_type` is set to __`binary_classifier`__, as we have a binary classification problem here; __`multiclass_classifier`__ could be used if there are 3 or more classes involved, or __'regressor'__ for a regression problem."
   ]
  },
  {
   "cell_type": "code",
   "execution_count": 25,
   "metadata": {
    "tags": []
   },
   "outputs": [
    {
     "name": "stdout",
     "output_type": "stream",
     "text": [
      "sagemaker.config INFO - Not applying SDK defaults from location: /etc/xdg/sagemaker/config.yaml\n",
      "sagemaker.config INFO - Not applying SDK defaults from location: /home/ec2-user/.config/sagemaker/config.yaml\n"
     ]
    }
   ],
   "source": [
    "import sagemaker\n",
    "\n",
    "# Call the LinearLearner estimator object\n",
    "LL_estimator = sagemaker.LinearLearner(role=sagemaker.get_execution_role(),\n",
    "                                       instance_count=1,\n",
    "                                       instance_type='ml.m4.xlarge',\n",
    "                                       predictor_type='binary_classifier')"
   ]
  },
  {
   "cell_type": "markdown",
   "metadata": {},
   "source": [
    "We are using the `record_set()` function of our binary_estimator to set the training, validation, test parts of the estimator. "
   ]
  },
  {
   "cell_type": "code",
   "execution_count": 26,
   "metadata": {
    "tags": []
   },
   "outputs": [],
   "source": [
    "import numpy as np\n",
    "\n",
    "train_records = LL_estimator.record_set(X_train.astype(\"float32\"),\n",
    "                                            np.array(y_train).astype(\"float32\"),\n",
    "                                            channel='train')\n",
    "val_records = LL_estimator.record_set(X_val.astype(\"float32\"),\n",
    "                                          np.array(y_val).astype(\"float32\"),\n",
    "                                          channel='validation')\n",
    "test_records = LL_estimator.record_set(X_test.astype(\"float32\"),\n",
    "                                           np.array(y_test).astype(\"float32\"),\n",
    "                                           channel='test')"
   ]
  },
  {
   "cell_type": "markdown",
   "metadata": {},
   "source": [
    "__fit()__ function applies a distributed version of the Stochastic Gradient Descent (SGD) algorithm and we are sending the data to it. We disabled logs with __logs=False__. You can remove that parameter to see more details about the process. __This process takes about 3-4 minutes on a ml.m4.xlarge instance.__"
   ]
  },
  {
   "cell_type": "code",
   "execution_count": 27,
   "metadata": {
    "tags": []
   },
   "outputs": [
    {
     "name": "stderr",
     "output_type": "stream",
     "text": [
      "INFO:sagemaker.image_uris:Same images used for training and inference. Defaulting to image scope: inference.\n",
      "INFO:sagemaker.image_uris:Ignoring unnecessary instance type: None.\n",
      "INFO:sagemaker:Creating training-job with name: linear-learner-2024-09-13-20-24-14-433\n"
     ]
    },
    {
     "name": "stdout",
     "output_type": "stream",
     "text": [
      "\n",
      "2024-09-13 20:24:18 Starting - Starting the training job..\n",
      "2024-09-13 20:24:33 Starting - Preparing the instances for training....\n",
      "2024-09-13 20:25:00 Downloading - Downloading input data......\n",
      "2024-09-13 20:25:30 Downloading - Downloading the training image...............\n",
      "2024-09-13 20:26:52 Training - Training image download completed. Training in progress..............\n",
      "2024-09-13 20:28:02 Uploading - Uploading generated training model\n",
      "2024-09-13 20:28:11 Completed - Training job completed\n",
      "CPU times: user 330 ms, sys: 33.5 ms, total: 364 ms\n",
      "Wall time: 3min 57s\n"
     ]
    }
   ],
   "source": [
    "%%time\n",
    "LL_estimator.fit([train_records, val_records, test_records], logs=False)"
   ]
  },
  {
   "cell_type": "markdown",
   "metadata": {},
   "source": [
    "## 7. <a name=\"7\">Model Evaluation</a>\n",
    "(<a href=\"#0\">Go to top</a>)\n",
    "\n",
    "We can use Sagemaker analytics to get some performance metrics of our choice on the test set. This doesn't require us to deploy our model. Since this is a binary classfication problem, we can check the accuracy."
   ]
  },
  {
   "cell_type": "code",
   "execution_count": 28,
   "metadata": {
    "tags": []
   },
   "outputs": [
    {
     "data": {
      "text/html": [
       "<div>\n",
       "<style scoped>\n",
       "    .dataframe tbody tr th:only-of-type {\n",
       "        vertical-align: middle;\n",
       "    }\n",
       "\n",
       "    .dataframe tbody tr th {\n",
       "        vertical-align: top;\n",
       "    }\n",
       "\n",
       "    .dataframe thead th {\n",
       "        text-align: right;\n",
       "    }\n",
       "</style>\n",
       "<table border=\"1\" class=\"dataframe\">\n",
       "  <thead>\n",
       "    <tr style=\"text-align: right;\">\n",
       "      <th></th>\n",
       "      <th>timestamp</th>\n",
       "      <th>metric_name</th>\n",
       "      <th>value</th>\n",
       "    </tr>\n",
       "  </thead>\n",
       "  <tbody>\n",
       "    <tr>\n",
       "      <th>0</th>\n",
       "      <td>0.0</td>\n",
       "      <td>test:binary_classification_accuracy</td>\n",
       "      <td>0.83747</td>\n",
       "    </tr>\n",
       "  </tbody>\n",
       "</table>\n",
       "</div>"
      ],
      "text/plain": [
       "   timestamp                          metric_name    value\n",
       "0        0.0  test:binary_classification_accuracy  0.83747"
      ]
     },
     "execution_count": 28,
     "metadata": {},
     "output_type": "execute_result"
    }
   ],
   "source": [
    "sagemaker.analytics.TrainingJobAnalytics(LL_estimator._current_job_name, \n",
    "                                         metric_names = ['test:binary_classification_accuracy']\n",
    "                                        ).dataframe()"
   ]
  },
  {
   "cell_type": "markdown",
   "metadata": {},
   "source": [
    "## 8. <a name=\"8\">Deploy the model to an endpoint</a>\n",
    "(<a href=\"#0\">Go to top</a>)\n",
    "\n",
    "\n",
    "We have successfully trained and tested our model. If happy with the performance, it is time to deploy the model to another instance of our choice. This will make it available as an endpoint, and allow us to use this model in production environment. \n",
    "\n",
    "Deployed endpoints can be used with other AWS Services such as Lambda and API Gateway. A nice walkthrough is available here: https://aws.amazon.com/blogs/machine-learning/call-an-amazon-sagemaker-model-endpoint-using-amazon-api-gateway-and-aws-lambda/ if you are interested.\n",
    "\n",
    "We use a `ml.t2.medium` instance here, but can also use other instance types such as:, `ml.c4.xlarge` etc. __This will take some time to complete (Approximately 7-8 minutes).__"
   ]
  },
  {
   "cell_type": "code",
   "execution_count": 29,
   "metadata": {
    "tags": []
   },
   "outputs": [
    {
     "name": "stderr",
     "output_type": "stream",
     "text": [
      "INFO:sagemaker.image_uris:Same images used for training and inference. Defaulting to image scope: inference.\n",
      "INFO:sagemaker.image_uris:Ignoring unnecessary instance type: None.\n",
      "INFO:sagemaker:Creating model with name: linear-learner-2024-09-13-20-28-12-470\n",
      "INFO:sagemaker:Creating endpoint-config with name endpoint-mla-tab-sm-2021\n",
      "INFO:sagemaker:Creating endpoint with name endpoint-mla-tab-sm-2021\n"
     ]
    },
    {
     "name": "stdout",
     "output_type": "stream",
     "text": [
      "-------------------!CPU times: user 189 ms, sys: 46.5 ms, total: 236 ms\n",
      "Wall time: 10min 3s\n"
     ]
    }
   ],
   "source": [
    "%%time\n",
    "LL_predictor = LL_estimator.deploy(initial_instance_count=1, \n",
    "                                   instance_type=\"ml.t2.medium\", \n",
    "                                   endpoint_name=\"endpoint-mla-tab-sm-2021\") # endpoint_name needs to be unique!"
   ]
  },
  {
   "cell_type": "markdown",
   "metadata": {},
   "source": [
    "## 9. <a name=\"9\">Test the endpoint</a>\n",
    "(<a href=\"#0\">Go to top</a>)\n",
    "\n",
    "Let's use the deployed endpoint. We send our test data and get predictions of it."
   ]
  },
  {
   "cell_type": "code",
   "execution_count": 30,
   "metadata": {
    "tags": []
   },
   "outputs": [
    {
     "name": "stdout",
     "output_type": "stream",
     "text": [
      "[0.5632908344268799, 0.3001261353492737, 0.9039475321769714, 0.06156793236732483, 0.15720437467098236, 0.9095470905303955, 0.8462730646133423, 0.2514438331127167, 0.5596614480018616, 0.383245587348938, 0.7204422950744629, 0.8935747146606445, 0.4414319396018982, 0.014345287345349789, 0.8565516471862793, 0.7258126735687256, 0.6908311247825623, 0.7176080942153931, 0.8323912620544434, 0.09926082193851471, 0.8913861513137817, 0.013273150660097599, 0.059949830174446106, 0.09673464298248291, 0.8766235709190369, 0.8999124765396118, 0.3153087794780731, 0.7364704012870789, 0.1940860152244568, 0.9203044176101685, 0.805946409702301, 0.01353847049176693, 0.2770514488220215, 0.30109208822250366, 0.017235927283763885, 0.6655485033988953, 0.08745593577623367, 0.11341908574104309, 0.44345444440841675, 0.8027024269104004, 0.892429769039154, 0.3196141719818115, 0.3415192663669586, 0.8853848576545715, 0.6682900786399841, 0.9044256806373596, 0.012383941560983658, 0.0587657131254673, 0.5714632868766785, 0.6450968384742737, 0.2570217549800873, 0.13990116119384766, 0.7056471705436707, 0.08008837699890137, 0.056336089968681335, 0.10974327474832535, 0.29025062918663025, 0.098442442715168, 0.05850778892636299, 0.01214548759162426, 0.013401773758232594, 0.3968043029308319, 0.010934253223240376, 0.8365017771720886, 0.6841794848442078, 0.13752807676792145, 0.15390270948410034, 0.25377538800239563, 0.6139260530471802, 0.8930503129959106, 0.01077027153223753, 0.316265732049942, 0.04678625985980034, 0.17954511940479279, 0.9248790144920349, 0.8839191198348999, 0.8970580697059631, 0.0747246965765953, 0.03435826301574707, 0.09687284380197525, 0.004258477594703436, 0.754991888999939, 0.09033162146806717, 0.7585415244102478, 0.8971115350723267, 0.8604140281677246, 0.5070070028305054, 0.37657347321510315, 0.7446464896202087, 0.6245941519737244, 0.9098297953605652, 0.30040624737739563, 0.7710140347480774, 0.3952290117740631, 0.8906773924827576, 0.6472477316856384, 0.5977799892425537, 0.7822607159614563, 0.6775994896888733, 0.6666167378425598, 0.7469226121902466, 0.03752821311354637, 0.5356782078742981, 0.10342700034379959, 0.7354092597961426, 0.012397514656186104, 0.7664291262626648, 0.7342226505279541, 0.09910976141691208, 0.03552909940481186, 0.07001326233148575, 0.9196415543556213, 0.08041250705718994, 0.05137914791703224, 0.8206048607826233, 0.15917640924453735, 0.882332444190979, 0.09889326989650726, 0.33167949318885803, 0.07337832450866699, 0.9306202530860901, 0.1925807148218155, 0.8018096685409546, 0.7858006954193115, 0.7775004506111145, 0.014544242061674595, 0.010856357403099537, 0.03535280376672745, 0.5916503667831421, 0.8244243860244751, 0.6939132809638977, 0.32230278849601746, 0.7784215211868286, 0.7570012807846069, 0.07881581038236618, 0.942663848400116, 0.8825584053993225, 0.7866233587265015, 0.7664291262626648, 0.907227635383606, 0.9455996155738831, 0.8193422555923462, 0.7708269357681274, 0.7024465799331665, 0.22800664603710175, 0.8811287879943848, 0.8832526206970215, 0.8468177318572998, 0.8107082843780518, 0.15942734479904175, 0.6625528335571289, 0.9365509152412415, 0.2622426748275757, 0.0067471591755747795, 0.7063340544700623, 0.8376898765563965, 0.8475379943847656, 0.09190342575311661, 0.506577730178833, 0.757540225982666, 0.527226448059082, 0.8893963098526001, 0.8378475308418274, 0.7286399006843567, 0.8962605595588684, 0.7338133454322815, 0.8036141395568848, 0.07298780232667923, 0.8297131061553955, 0.5798674821853638, 0.06717034429311752, 0.8820929527282715, 0.6668506860733032, 0.029242893680930138, 0.8795837759971619, 0.8899292945861816, 0.0388152152299881, 0.014210282824933529, 0.8500683307647705, 0.025127798318862915, 0.05994231626391411, 0.6582280397415161, 0.11857542395591736, 0.8052304983139038, 0.8231156468391418, 0.46600016951560974, 0.18395239114761353, 0.8895861506462097, 0.03210955858230591, 0.006801138166338205, 0.7147517800331116, 0.9167285561561584, 0.8918222188949585, 0.5592801570892334, 0.08521201461553574, 0.6787535548210144, 0.3156591057777405, 0.6711209416389465, 0.09808018803596497, 0.4772043824195862, 0.8743742108345032, 0.5004816651344299, 0.08037857711315155, 0.10170082747936249, 0.14599370956420898, 0.7541360259056091, 0.7698635458946228, 0.8610740303993225, 0.17378830909729004, 0.9401663541793823, 0.24147267639636993, 0.8456189036369324, 0.6450968384742737, 0.8769422173500061, 0.11259382963180542, 0.8863967657089233, 0.18465419113636017, 0.6625528335571289, 0.36154091358184814, 0.2723179757595062, 0.45137152075767517, 0.14915749430656433, 0.6217981576919556, 0.8746691346168518, 0.9087396860122681, 0.09662832319736481, 0.777518630027771, 0.27426835894584656, 0.8017938733100891, 0.6339329481124878, 0.6854849457740784, 0.67369145154953, 0.1055946946144104, 0.9242055416107178, 0.010831688530743122, 0.9085301756858826, 0.8423213362693787, 0.5519546866416931, 0.07934178411960602, 0.8737687468528748, 0.529691219329834, 0.899299681186676, 0.22539430856704712, 0.2448730766773224, 0.8903821110725403, 0.815486490726471, 0.6006600856781006, 0.15680497884750366, 0.4307117760181427, 0.8229043483734131, 0.8076856136322021, 0.5678725838661194, 0.30498990416526794, 0.04647734388709068, 0.9374138116836548, 0.12138491123914719, 0.4877152740955353, 0.9172655344009399, 0.9000511169433594, 0.08899348974227905, 0.5471810698509216, 0.833617091178894, 0.21006238460540771, 0.2382258027791977, 0.6582280397415161, 0.0885530486702919, 0.6782552599906921, 0.5458502173423767, 0.5117415189743042, 0.8904057741165161, 0.9169877171516418, 0.713512659072876, 0.5512998104095459, 0.2720654308795929, 0.894230306148529, 0.7901914715766907, 0.03754282370209694, 0.529691219329834, 0.5152584910392761, 0.08715230971574783, 0.47723573446273804, 0.8589320778846741, 0.7501436471939087, 0.8781604766845703, 0.030109234154224396, 0.8580373525619507, 0.004979091230779886, 0.8811829686164856, 0.5223444104194641, 0.6176270842552185, 0.8599382042884827, 0.7765095829963684, 0.054702285677194595, 0.8849694728851318, 0.4764136075973511, 0.6324430108070374, 0.8385537266731262, 0.7339391112327576, 0.11039420962333679, 0.012081550434231758, 0.06248924136161804, 0.023168347775936127, 0.307003915309906, 0.8830205798149109, 0.06327857077121735, 0.6328740119934082, 0.950439989566803, 0.8985106945037842, 0.3387705385684967, 0.6569528579711914, 0.0052296677604317665, 0.7550673484802246, 0.12083297967910767, 0.722016453742981, 0.6488469243049622, 0.8393916487693787, 0.11772570013999939, 0.8394837975502014, 0.07298924028873444, 0.08075674623250961, 0.8793597221374512, 0.08496832847595215, 0.04722607508301735, 0.9639215469360352, 0.2658219039440155, 0.848911464214325, 0.0477968268096447, 0.7784746289253235, 0.0856345072388649, 0.6554034948348999, 0.6627399921417236, 0.8011999130249023, 0.15097810328006744, 0.19957378506660461, 0.0984044075012207, 0.025793634355068207, 0.723598301410675, 0.13030344247817993, 0.8824552297592163, 0.868861734867096, 0.32857388257980347, 0.6729259490966797, 0.7862889170646667, 0.6709011793136597, 0.8782060742378235, 0.5519546866416931, 0.052270419895648956, 0.5104472637176514, 0.6605744361877441, 0.24775220453739166, 0.08173950761556625, 0.013273150660097599, 0.8870055079460144, 0.8956401944160461, 0.613999605178833, 0.8343011736869812, 0.6288467645645142, 0.46271753311157227, 0.012256643734872341, 0.1862282156944275, 0.8862581253051758, 0.04481517896056175, 0.19105590879917145, 0.8498458862304688, 0.6307066082954407, 0.6284970045089722, 0.30502113699913025, 0.5391165614128113, 0.8737339973449707, 0.3508665859699249, 0.9031170606613159, 0.5690919756889343, 0.8521741628646851, 0.7736429572105408, 0.5010467171669006, 0.10918527096509933, 0.4239177405834198, 0.21982307732105255, 0.026707788929343224, 0.022232625633478165, 0.9089440107345581, 0.8372593522071838, 0.025502890348434448, 0.8911762237548828, 0.8223171234130859, 0.14117056131362915, 0.8574678301811218, 0.8109690546989441, 0.7406519055366516, 0.033725447952747345, 0.3020297884941101, 0.07569325715303421, 0.5519546866416931, 0.8782610893249512, 0.2742103040218353, 0.07313665747642517, 0.3118036985397339, 0.08703184127807617, 0.781507134437561, 0.8950128555297852, 0.7525714635848999, 0.8906252980232239, 0.13060572743415833, 0.895649254322052, 0.8450770974159241, 0.8911649584770203, 0.7424911260604858, 0.2614118754863739, 0.3035297691822052, 0.9071277976036072, 0.07179177552461624, 0.6283820867538452, 0.3083246350288391, 0.7239723801612854, 0.8950512409210205, 0.10695035010576248, 0.8724476099014282, 0.050998806953430176, 0.849114716053009, 0.9328191876411438, 0.8388482928276062, 0.36164596676826477, 0.09175964444875717, 0.22632090747356415, 0.9222899675369263, 0.6402976512908936, 0.8049078583717346, 0.27861279249191284, 0.2867880165576935, 0.670998752117157, 0.07341615110635757, 0.7220354080200195, 0.09673464298248291, 0.014948952943086624, 0.7068105936050415, 0.07505275309085846, 0.6802405714988708, 0.3372012972831726, 0.8782250285148621, 0.692211925983429, 0.6978177428245544, 0.3690785765647888, 0.45418283343315125, 0.4712281823158264, 0.2891227602958679, 0.7035611271858215, 0.0840723067522049, 0.6521421074867249, 0.8051056861877441, 0.8991386294364929, 0.6712120771408081, 0.4685966968536377, 0.855070173740387, 0.8751506805419922, 0.8755332827568054, 0.7468315958976746, 0.2352007031440735, 0.5519546866416931, 0.33100298047065735, 0.15973344445228577, 0.9458928108215332, 0.8839992880821228, 0.7557605504989624, 0.9080877900123596, 0.9085937142372131, 0.364673376083374, 0.8473895788192749, 0.10851988941431046, 0.8396329879760742, 0.636218249797821, 0.8786941170692444, 0.6536831855773926, 0.8722253441810608, 0.5423988103866577, 0.12828776240348816, 0.17863215506076813, 0.03633728250861168, 0.7471491694450378, 0.058205053210258484, 0.6526904702186584, 0.921643078327179, 0.7052293419837952, 0.29556167125701904, 0.0642247125506401, 0.35089316964149475, 0.7716667056083679, 0.8997265696525574, 0.8020197153091431, 0.8922734260559082, 0.5662389993667603, 0.013178887777030468, 0.3287295699119568, 0.8336604833602905, 0.12442759424448013, 0.11389295756816864, 0.8382382988929749, 0.03678055480122566, 0.9506723284721375, 0.22590528428554535, 0.8378056883811951, 0.15771706402301788, 0.7089549899101257, 0.6758137345314026, 0.8195582628250122, 0.011040465906262398, 0.922835111618042, 0.14502491056919098, 0.9680761098861694, 0.09194256365299225, 0.09051942080259323, 0.6523325443267822, 0.9175624251365662, 0.6343103051185608, 0.8963136076927185, 0.8445232510566711, 0.9091160297393799, 0.7509072422981262, 0.7623705863952637, 0.1027885302901268, 0.036353204399347305, 0.7605184316635132, 0.09340295195579529, 0.8384153246879578, 0.9112343192100525, 0.8885147571563721, 0.6125763058662415, 0.4659354090690613, 0.12026995420455933, 0.8200765252113342, 0.7628779411315918, 0.6625528335571289, 0.8569693565368652, 0.5280085206031799, 0.6469168663024902, 0.814450204372406, 0.772005558013916, 0.836386501789093, 0.8491620421409607, 0.10449159890413284, 0.8384408950805664, 0.9256057143211365, 0.012295915745198727, 0.7952637076377869, 0.012168061919510365, 0.7214041352272034, 0.7587807774543762, 0.6198245286941528, 0.9183365106582642, 0.04229577258229256, 0.40461450815200806, 0.6904492378234863, 0.03974408283829689, 0.8568716645240784, 0.9031275510787964, 0.7395301461219788, 0.3623860478401184, 0.925963282585144, 0.8874257802963257, 0.36058005690574646, 0.1155325174331665, 0.34742599725723267, 0.8178064823150635, 0.46279841661453247, 0.8426351547241211, 0.23871898651123047, 0.2702299952507019, 0.6743358373641968, 0.6899850964546204, 0.19058284163475037, 0.7002882957458496, 0.7817403078079224, 0.07689166069030762, 0.8622992038726807, 0.14828623831272125, 0.7135895490646362, 0.9186419248580933, 0.8897591233253479, 0.5471810698509216, 0.010934253223240376, 0.7532873749732971, 0.10890313237905502, 0.7028163075447083, 0.09597335010766983, 0.0911133661866188, 0.1739692986011505, 0.22779498994350433, 0.03412223979830742, 0.9016484618186951, 0.5614722967147827, 0.8702290058135986, 0.8847619891166687, 0.9012161493301392, 0.050854332745075226, 0.06852858513593674, 0.037996381521224976, 0.623832106590271, 0.778201162815094, 0.8381991386413574, 0.046555180102586746, 0.264782577753067, 0.8879468441009521, 0.899488091468811, 0.7694724202156067, 0.05738116055727005, 0.5755439400672913, 0.33628037571907043, 0.21156546473503113, 0.7501502633094788, 0.014893660321831703, 0.0067471591755747795, 0.00643144128844142, 0.04606401547789574, 0.5425717830657959, 0.7308256030082703, 0.8311783671379089, 0.28116661310195923, 0.4432491958141327, 0.667208731174469, 0.09679920226335526, 0.810103714466095, 0.8786941170692444, 0.08675920963287354, 0.7910401821136475, 0.849372148513794, 0.6393740773200989, 0.5440744757652283, 0.4208762049674988, 0.9108131527900696, 0.13221092522144318, 0.9109342694282532, 0.9053298234939575, 0.27532440423965454, 0.07934333384037018, 0.7926396131515503, 0.31604161858558655, 0.07892706990242004, 0.8506516814231873, 0.011645637452602386, 0.671638548374176, 0.7777270674705505, 0.7202795743942261, 0.9116158485412598, 0.5527471303939819, 0.09722638130187988, 0.5614722967147827, 0.5583846569061279, 0.6395265460014343, 0.8791231513023376, 0.5427929759025574, 0.09070832282304764, 0.5440744757652283, 0.362304151058197, 0.22705896198749542, 0.7601650953292847, 0.14782597124576569, 0.9101932048797607, 0.3533058166503906, 0.9091435074806213, 0.40673765540122986, 0.8244622349739075, 0.8971630334854126, 0.10161133855581284, 0.04076118394732475, 0.7794399857521057, 0.06253878772258759, 0.6760133504867554, 0.8919686079025269, 0.7596667408943176, 0.45008355379104614, 0.33287355303764343, 0.7790207862854004, 0.8445412516593933, 0.6002798080444336, 0.520073413848877, 0.7235249876976013, 0.32122695446014404, 0.012592429295182228, 0.8604856729507446, 0.6924228668212891, 0.029465327039361, 0.4873184859752655, 0.5882877707481384, 0.8530153036117554, 0.896736741065979, 0.5629848837852478, 0.0892743244767189, 0.9222282767295837, 0.6028098464012146, 0.935245931148529, 0.013508369214832783, 0.5662153363227844, 0.79660564661026, 0.8787170052528381, 0.8059748411178589, 0.5152584910392761, 0.7648866772651672, 0.8729375600814819, 0.9434707760810852, 0.2614118754863739, 0.8840013742446899, 0.004598390311002731, 0.8871749043464661, 0.9167794585227966, 0.8275589346885681, 0.7777521014213562, 0.8815518617630005, 0.9346880316734314, 0.014705968089401722, 0.8409166932106018, 0.088747538626194, 0.6697502136230469, 0.27757465839385986, 0.015391645021736622, 0.8288896679878235, 0.6668506860733032, 0.9040482044219971, 0.006932644639164209, 0.028653418645262718, 0.6006922125816345, 0.7914241552352905, 0.7099218368530273, 0.6008345484733582, 0.9649659395217896, 0.5306525826454163, 0.5828205943107605, 0.11419351398944855, 0.10078267753124237, 0.026479138061404228, 0.6065464019775391, 0.7779802083969116, 0.2911105453968048, 0.10428415238857269, 0.8704082369804382, 0.8527407646179199, 0.892246663570404, 0.04298019036650658, 0.9027490615844727, 0.7832316160202026, 0.9093366861343384, 0.9560737013816833, 0.5864700078964233, 0.25668540596961975, 0.7698635458946228, 0.09291264414787292, 0.7626192569732666, 0.8649131059646606, 0.8411097526550293, 0.3752811551094055, 0.6858753561973572, 0.308065801858902, 0.7586126327514648, 0.10784599184989929, 0.010831688530743122, 0.06394504010677338, 0.7680321335792542, 0.9033454060554504, 0.8076987266540527, 0.8324016332626343, 0.023543691262602806, 0.09655436128377914, 0.9257495999336243, 0.9071277976036072, 0.8875628113746643, 0.9045100212097168, 0.682039737701416, 0.05137914791703224, 0.7418810129165649, 0.7731450796127319, 0.038066718727350235, 0.9272884130477905, 0.5781501531600952, 0.07929900288581848, 0.8270325064659119, 0.6450968384742737, 0.6711209416389465, 0.9128052592277527, 0.8192598223686218, 0.18734504282474518, 0.0304177924990654, 0.5753442645072937, 0.848300576210022, 0.8496513962745667, 0.2710285782814026, 0.8852851390838623, 0.8419010639190674, 0.034550100564956665, 0.07794453203678131, 0.6711209416389465, 0.010277877561748028, 0.5826714038848877, 0.8468729853630066, 0.08692339062690735, 0.8170046210289001, 0.9689399003982544, 0.1487961858510971, 0.8720839023590088, 0.27535316348075867, 0.6711209416389465, 0.9006047248840332, 0.9601103663444519, 0.016888078302145004, 0.04777192324399948, 0.08907300233840942, 0.7278108596801758, 0.8319039344787598, 0.03570912033319473, 0.708450973033905, 0.6218982934951782, 0.006867536343634129, 0.18874935805797577, 0.22649401426315308, 0.5309955477714539, 0.8786941170692444, 0.04300261288881302, 0.22893747687339783, 0.9198954105377197, 0.0878080278635025, 0.5786391496658325, 0.9069697856903076, 0.7515556216239929, 0.9132081866264343, 0.8963518142700195, 0.5328116416931152, 0.9416365623474121, 0.8189860582351685, 0.9101229906082153, 0.849920928478241, 0.3759079873561859, 0.23803114891052246, 0.7501436471939087, 0.8862221240997314, 0.003617106005549431, 0.8769003748893738, 0.9299054145812988, 0.8868650197982788, 0.752973198890686, 0.023447208106517792, 0.030774829909205437, 0.8897591233253479, 0.8641325235366821, 0.8428769111633301, 0.8207493424415588, 0.18012455105781555, 0.008126296103000641, 0.12669450044631958, 0.8136394619941711, 0.7651312351226807, 0.3335064947605133, 0.7206473350524902, 0.266313374042511, 0.004063901491463184, 0.7067404985427856, 0.012735393829643726, 0.6687888503074646, 0.6911113858222961, 0.6810455322265625, 0.04957503452897072, 0.006149630527943373, 0.07877576351165771, 0.8375741243362427, 0.9403092861175537, 0.9071134924888611, 0.839449405670166, 0.8664758801460266, 0.9021365642547607, 0.40817293524742126, 0.9475306272506714, 0.3394421935081482, 0.6711209416389465, 0.6450968384742737, 0.5971069931983948, 0.265152245759964, 0.010819830931723118, 0.4781014919281006, 0.8704082369804382, 0.7565898299217224, 0.9224026203155518, 0.9192805886268616, 0.8258650898933411, 0.9514840841293335, 0.8897591233253479, 0.005938408896327019, 0.9147305488586426, 0.6189560890197754, 0.7154273986816406, 0.18747694790363312, 0.9820350408554077, 0.6285282969474792, 0.8311783671379089, 0.03576114773750305, 0.6024302840232849, 0.4539105296134949, 0.3000886142253876, 0.08041250705718994, 0.051313359290361404, 0.6009172797203064, 0.6699051856994629, 0.31956014037132263, 0.6466414928436279, 0.6070296764373779, 0.3553006052970886, 0.07320995628833771, 0.8755687475204468, 0.9223089218139648, 0.22221845388412476, 0.06311823427677155, 0.6006976366043091, 0.8990358710289001, 0.39254507422447205, 0.6516042947769165, 0.028003206476569176, 0.8470385074615479, 0.8812674880027771, 0.09832995384931564, 0.2679927945137024, 0.539591372013092, 0.10967331379652023, 0.556718647480011, 0.5654240846633911, 0.8765535950660706, 0.8612526655197144, 0.013022941537201405, 0.13025522232055664, 0.899591863155365, 0.4574131667613983, 0.860805332660675, 0.0378960445523262, 0.6951967477798462, 0.8603178858757019, 0.06543555110692978, 0.7904212474822998, 0.7512630820274353, 0.011465207673609257, 0.0949283316731453, 0.7482525110244751, 0.8888018727302551, 0.8409043550491333, 0.3533008098602295, 0.3752754330635071, 0.6440312266349792, 0.7362573146820068, 0.6129411458969116, 0.08041250705718994, 0.04532117769122124, 0.804898738861084, 0.7025883793830872, 0.10572031885385513, 0.29967984557151794, 0.013273150660097599, 0.004510959610342979, 0.769700288772583, 0.11873254179954529, 0.7584125399589539, 0.0819544717669487, 0.26430466771125793, 0.9185734987258911, 0.7045831680297852, 0.6215810775756836, 0.6937201023101807, 0.6607702374458313, 0.6510106921195984, 0.5505045652389526, 0.7189816832542419, 0.7487275004386902, 0.9095436334609985, 0.26675090193748474, 0.4542679488658905, 0.8601941466331482, 0.76788729429245, 0.9031885862350464, 0.924070417881012, 0.883102536201477, 0.499144047498703, 0.9178536534309387, 0.32013916969299316, 0.887829601764679, 0.895649254322052, 0.9638240337371826, 0.719904899597168, 0.039736583828926086, 0.8590208888053894, 0.8718032836914062, 0.0567484088242054, 0.6466414928436279, 0.3799855411052704, 0.5328116416931152, 0.07678847759962082, 0.0966537818312645, 0.9043046832084656, 0.670581579208374, 0.14714768528938293, 0.7764044404029846, 0.13250021636486053, 0.7050865888595581, 0.1081075519323349, 0.781030535697937, 0.7859159111976624, 0.10177630186080933, 0.9459858536720276, 0.1481376439332962, 0.7376877665519714, 0.013022941537201405, 0.8541272878646851, 0.5506396889686584, 0.7092693448066711, 0.8952706456184387, 0.05354663357138634, 0.41313788294792175, 0.8284551501274109, 0.7377482652664185, 0.5078726410865784, 0.24804772436618805, 0.8797771334648132, 0.2929192781448364, 0.8480316400527954, 0.06426820158958435, 0.14915122091770172, 0.06718871742486954, 0.8981038331985474, 0.06269800662994385, 0.7122958898544312, 0.10571736842393875, 0.17954511940479279, 0.7136427760124207, 0.9046323895454407, 0.0304177924990654, 0.023483693599700928, 0.22371701896190643, 0.6711209416389465, 0.8913647532463074, 0.8497689366340637, 0.1363026350736618, 0.9600858688354492, 0.6985129714012146, 0.009844979271292686, 0.0996200293302536, 0.099326953291893, 0.48328712582588196, 0.906197726726532, 0.6768420934677124, 0.6295382976531982, 0.28674402832984924, 0.06875716149806976, 0.6084294319152832, 0.752689778804779, 0.04479304328560829, 0.8883786797523499, 0.2262313812971115, 0.6534274816513062, 0.07931630313396454, 0.9139723181724548, 0.6606925129890442, 0.7584125399589539, 0.7303275465965271, 0.930864691734314, 0.6681552529335022, 0.6666167378425598, 0.7655411958694458, 0.04483102634549141, 0.8872113227844238, 0.0427277646958828, 0.011144203133881092, 0.08601631224155426, 0.055057376623153687, 0.553624153137207, 0.012522140517830849, 0.0854891687631607, 0.8740948438644409, 0.8892468810081482, 0.8801298141479492, 0.7765282392501831, 0.8371279239654541, 0.8530153036117554, 0.6243114471435547, 0.839159369468689, 0.5859636664390564, 0.865013062953949, 0.5933845043182373, 0.02943940833210945, 0.556718647480011, 0.6964595913887024, 0.6071717143058777, 0.8284551501274109, 0.06816931068897247, 0.853132963180542, 0.8223171234130859, 0.07024402916431427, 0.7158226370811462, 0.9107239246368408, 0.31963950395584106, 0.8325454592704773, 0.6761747598648071, 0.013022941537201405, 0.029658978804945946, 0.12674663960933685, 0.9708346128463745, 0.39133358001708984, 0.737869143486023, 0.04049675911664963, 0.873128354549408, 0.6987314224243164, 0.14110301434993744, 0.7177003622055054, 0.21819645166397095, 0.9049474000930786, 0.6625528335571289, 0.8470385074615479, 0.11857542395591736, 0.273191899061203, 0.43306753039360046, 0.09861986339092255, 0.19468088448047638, 0.6848393678665161, 0.8562747836112976, 0.9019248485565186, 0.18903858959674835, 0.12057212740182877, 0.7432417869567871, 0.901972234249115, 0.7871205806732178, 0.8813183903694153, 0.8999250531196594, 0.9082430005073547, 0.6864846348762512, 0.8790382146835327, 0.35995009541511536, 0.8449279069900513, 0.6852197051048279, 0.8871276378631592, 0.005023651756346226, 0.7581220269203186, 0.7892901301383972, 0.7426962852478027, 0.7641767263412476, 0.05083194375038147, 0.747211754322052, 0.9224026203155518, 0.12934963405132294, 0.05098474398255348, 0.512362003326416, 0.7430920004844666, 0.9459494948387146, 0.8921250104904175, 0.8857437372207642, 0.8952462077140808, 0.6668506860733032, 0.6625528335571289, 0.8389058709144592, 0.7998162508010864, 0.7731450796127319, 0.6954433917999268, 0.8548504114151001, 0.8990334868431091, 0.6582280397415161, 0.7452602386474609, 0.04885184019804001, 0.845662534236908, 0.4350232481956482, 0.6471266150474548, 0.669327974319458, 0.34491434693336487, 0.9068688750267029, 0.20006714761257172, 0.23888343572616577, 0.8918496966362, 0.15023653209209442, 0.846515953540802, 0.0997508242726326, 0.1686495691537857, 0.24262471497058868, 0.8892519474029541, 0.9083697199821472, 0.2966090142726898, 0.673077404499054, 0.9491772055625916, 0.8681501150131226, 0.03658834099769592, 0.868590235710144, 0.7629802823066711, 0.6186411380767822, 0.08029245585203171, 0.42955201864242554, 0.38805174827575684, 0.7874975800514221, 0.8852065205574036, 0.19260919094085693, 0.8007867336273193, 0.8145554661750793, 0.07942508161067963, 0.006801138166338205, 0.2633157968521118, 0.8836889266967773, 0.8337064385414124, 0.8987065553665161, 0.3319754898548126, 0.027892015874385834, 0.7482525110244751, 0.10748644173145294, 0.41538432240486145, 0.6877169013023376, 0.04735785722732544, 0.9118674397468567, 0.3070749044418335, 0.7314112186431885, 0.7296752333641052, 0.8635077476501465, 0.7023367285728455, 0.7220531702041626, 0.6987291574478149, 0.6710498332977295, 0.6520001292228699, 0.6325393319129944, 0.30762553215026855, 0.7011935114860535, 0.2897018790245056, 0.9091160297393799, 0.6973587274551392, 0.7545834183692932, 0.2966090142726898, 0.8956421613693237, 0.763537585735321, 0.3163725435733795, 0.7615143060684204, 0.8380560874938965, 0.6768420934677124, 0.4346446096897125, 0.6960343718528748, 0.665817141532898, 0.12076520174741745, 0.5985645651817322, 0.6000128388404846, 0.6711209416389465, 0.7807925343513489, 0.07458746433258057, 0.869020938873291, 0.028781594708561897, 0.07291693240404129, 0.3775646388530731, 0.2350575476884842, 0.10695401579141617, 0.6810455322265625, 0.8761077523231506, 0.9126089811325073, 0.23137423396110535, 0.9185734987258911, 0.12758870422840118, 0.08040957897901535, 0.6430940628051758, 0.8470385074615479, 0.6214253902435303, 0.5087530016899109, 0.6978177428245544, 0.03551368787884712, 0.10166963934898376, 0.4554603695869446, 0.7650570273399353, 0.30852577090263367, 0.8337064385414124, 0.36164596676826477, 0.08004451543092728, 0.22256480157375336, 0.5430372953414917, 0.6211734414100647, 0.8334865570068359, 0.8885502219200134, 0.8559985756874084, 0.6716843247413635, 0.9433560967445374, 0.5393059253692627, 0.6644152402877808, 0.8670798540115356, 0.9060530662536621, 0.8783881068229675, 0.010388681665062904, 0.38075608015060425, 0.8946090936660767, 0.8857527375221252, 0.40011370182037354, 0.8340936303138733, 0.6513301730155945, 0.8762524127960205, 0.6683493256568909, 0.6097496151924133, 0.004854880273342133, 0.7039469480514526, 0.7265975475311279, 0.9486123323440552, 0.8899485468864441, 0.7825788855552673, 0.7135311961174011, 0.476809024810791, 0.8340229392051697, 0.7285109758377075, 0.8513398170471191, 0.8748172521591187, 0.3916272222995758, 0.574455738067627, 0.9018925428390503, 0.3671734631061554, 0.641861081123352, 0.28061988949775696, 0.8577784895896912, 0.09030670672655106, 0.09002685546875, 0.05098237842321396, 0.3085736632347107, 0.6530493497848511, 0.9252736568450928, 0.07051730155944824, 0.0449761301279068, 0.07931630313396454, 0.21361683309078217, 0.6620549559593201, 0.6187252998352051, 0.039034776389598846, 0.004979091230779886, 0.17681501805782318, 0.2192780077457428, 0.6669037938117981, 0.5280085206031799, 0.2970689535140991, 0.9157294034957886, 0.04490935429930687, 0.3447352945804596, 0.5985645651817322, 0.099326953291893, 0.8162694573402405, 0.9163040518760681, 0.3935112953186035, 0.641951858997345, 0.6253156661987305, 0.7377482652664185, 0.1054667979478836, 0.9027515053749084, 0.7627101540565491, 0.8796002864837646, 0.831887423992157, 0.2162073403596878, 0.921643078327179, 0.8995888829231262, 0.860369086265564, 0.8962166905403137, 0.3983911871910095, 0.12076520174741745, 0.013731305487453938, 0.14530105888843536, 0.779312014579773, 0.4784970283508301, 0.9138627052307129, 0.0885530486702919, 0.045913852751255035, 0.7786009907722473, 0.7333632111549377, 0.7220607399940491, 0.2930578887462616, 0.5903772711753845, 0.7249506115913391, 0.6037547588348389, 0.914801299571991, 0.6942719221115112, 0.6974800825119019, 0.7311879992485046, 0.7120176553726196, 0.09605123847723007, 0.0067471591755747795, 0.005444247741252184, 0.7384481430053711, 0.07917174696922302, 0.8135877251625061, 0.15501007437705994, 0.8567341566085815, 0.8782752752304077, 0.4512142837047577, 0.8985088467597961, 0.1081707626581192, 0.7213354706764221, 0.0363735668361187, 0.6762853264808655, 0.9226818084716797, 0.7231580018997192, 0.740501344203949, 0.09709203988313675, 0.07798372209072113, 0.7490574717521667, 0.8588992357254028, 0.553624153137207, 0.925284206867218, 0.4916892349720001, 0.9622293710708618, 0.0806521326303482, 0.8525052070617676, 0.5333815217018127, 0.739144504070282, 0.8454670310020447, 0.8912986516952515, 0.1017489954829216, 0.8943472504615784, 0.6597455739974976, 0.7795660495758057, 0.006257738918066025, 0.8204618096351624, 0.007723023183643818, 0.9164015650749207, 0.9069697856903076, 0.5614722967147827, 0.0279238298535347, 0.7563729882240295, 0.7806206941604614, 0.4094526171684265, 0.09863508492708206, 0.8891008496284485, 0.38713762164115906, 0.17751629650592804, 0.07591534405946732, 0.0385756641626358, 0.5578874945640564, 0.04972495883703232, 0.5363283157348633, 0.04552224278450012, 0.9235942959785461, 0.214074045419693, 0.016616247594356537, 0.9326916337013245, 0.29487380385398865, 0.04480784758925438, 0.22484713792800903, 0.2776544690132141, 0.9191286563873291, 0.6436260938644409, 0.7303574085235596, 0.7717912197113037, 0.5810115337371826, 0.8061305284500122, 0.07709372043609619, 0.4314001202583313, 0.054961372166872025, 0.6852197051048279, 0.7651795744895935, 0.07966915518045425, 0.8374587297439575, 0.6317434310913086, 0.9663619995117188, 0.806076169013977, 0.6715466976165771, 0.15413425862789154, 0.6340457797050476, 0.8168230056762695, 0.9025677442550659, 0.4317120909690857, 0.9023046493530273, 0.9483372569084167, 0.03958839923143387, 0.04794422537088394, 0.5938054919242859, 0.004510959610342979, 0.8081231117248535, 0.3450770676136017, 0.2801041305065155, 0.04210614040493965, 0.8736450672149658, 0.004510959610342979, 0.052041150629520416, 0.7843897342681885, 0.7376877665519714, 0.14043252170085907, 0.6214253902435303, 0.8922248482704163, 0.6711209416389465, 0.9019615054130554, 0.13791605830192566, 0.4518049359321594, 0.12802350521087646, 0.35877203941345215, 0.8927243947982788, 0.09737882763147354, 0.032671499997377396, 0.9053298234939575, 0.6000702977180481, 0.7663053274154663, 0.24882188439369202, 0.6335952281951904, 0.1455269753932953, 0.7620558738708496, 0.7422459125518799, 0.6696077585220337, 0.8010740280151367, 0.04880242422223091, 0.9234765768051147, 0.41966429352760315, 0.39252349734306335, 0.8790605068206787, 0.9242830276489258, 0.8269230127334595, 0.09896833449602127, 0.011713090352714062, 0.7268421053886414, 0.9079567790031433, 0.6456499099731445, 0.09000065177679062, 0.015513766556978226, 0.06331877410411835, 0.48325198888778687, 0.5902458429336548, 0.31150832772254944, 0.7921251058578491, 0.787429690361023, 0.7163344025611877, 0.23398496210575104, 0.7564522624015808, 0.9137988090515137, 0.9068706631660461, 0.8592538833618164, 0.03440459072589874, 0.04536929726600647, 0.8680356740951538, 0.08646918833255768, 0.7523379921913147, 0.1875666081905365, 0.04019175469875336, 0.06685078889131546, 0.5422316193580627, 0.8349575400352478, 0.7830305695533752, 0.09253058582544327, 0.3171243667602539, 0.10210701823234558, 0.9198062419891357, 0.029834775254130363, 0.4689076542854309, 0.8915243744850159, 0.8233280777931213, 0.923679530620575, 0.7514072060585022, 0.7825788855552673, 0.07380462437868118, 0.8030205965042114, 0.7849255800247192, 0.39068034291267395, 0.012310529127717018, 0.86599200963974, 0.870356559753418, 0.7831466794013977, 0.8482722043991089, 0.933864414691925, 0.7060612440109253, 0.07307866215705872, 0.9343980550765991, 0.5599512457847595, 0.6317434310913086, 0.08820927143096924, 0.8530898094177246, 0.6861456632614136, 0.10436109453439713, 0.8441635966300964, 0.7659205794334412, 0.907707929611206, 0.8956421613693237, 0.944481611251831, 0.8572383522987366, 0.9244561195373535, 0.23056460916996002, 0.6006199717521667, 0.05531963333487511, 0.6768420934677124, 0.60444176197052, 0.11681300401687622, 0.6881058812141418, 0.07931630313396454, 0.7328835725784302, 0.8654593825340271, 0.22912436723709106, 0.706550121307373, 0.09972421824932098, 0.6225486993789673, 0.11490274220705032, 0.012735819444060326, 0.5488538146018982, 0.7968404293060303, 0.11417312175035477, 0.0864042192697525, 0.15279509127140045, 0.8193961381912231, 0.6277565360069275, 0.6540745496749878, 0.5804665088653564, 0.07298017293214798, 0.8180688619613647, 0.8886833190917969, 0.8646582961082458, 0.6052210927009583, 0.2812614440917969, 0.009303356520831585, 0.6527141332626343, 0.8388482928276062, 0.8943710923194885, 0.8675081729888916, 0.9412562251091003, 0.3608458936214447, 0.2307954579591751, 0.8997113108634949, 0.03242604434490204, 0.7619636058807373, 0.8470385074615479, 0.9153149724006653, 0.4770042300224304, 0.864104688167572, 0.556718647480011, 0.8231156468391418, 0.12612244486808777, 0.7228087782859802, 0.8893722295761108, 0.35507917404174805, 0.8768394589424133, 0.8847184777259827, 0.7629593014717102, 0.917946994304657, 0.26855364441871643, 0.6388837695121765, 0.21591401100158691, 0.8226895332336426, 0.1975185126066208, 0.03958084061741829, 0.7826773524284363, 0.7628779411315918, 0.8743030428886414, 0.04642978310585022, 0.5678725838661194, 0.8985088467597961, 0.31595665216445923, 0.9582950472831726, 0.16201238334178925, 0.7642541527748108, 0.2750573456287384, 0.3235243856906891, 0.7581220269203186, 0.8815708160400391, 0.8474377989768982, 0.08191622048616409, 0.1301761269569397, 0.28152766823768616, 0.04681042581796646, 0.8902709484100342, 0.9395105838775635, 0.7796391844749451, 0.059353623539209366, 0.030899696052074432, 0.3491378128528595, 0.6282335519790649, 0.007406122516840696, 0.4867265224456787, 0.8861534595489502, 0.31355926394462585, 0.21701188385486603, 0.14757917821407318, 0.6958792209625244, 0.7465118765830994, 0.8132861256599426, 0.6614993214607239, 0.614326536655426, 0.956093430519104, 0.21769796311855316, 0.8375343680381775, 0.8916518688201904, 0.5359706878662109, 0.766182541847229, 0.7365610003471375, 0.9106394052505493, 0.8601937890052795, 0.680927574634552, 0.8180297017097473, 0.5061815977096558, 0.0907502993941307, 0.004598390311002731, 0.004620881751179695, 0.9376162886619568, 0.6224542260169983, 0.37796226143836975, 0.5471810698509216, 0.5287986993789673, 0.46490561962127686, 0.14194123446941376, 0.06418026983737946, 0.6238678097724915, 0.18710385262966156, 0.9053298234939575, 0.07183287292718887, 0.004648199770599604, 0.9514661431312561, 0.6714491844177246, 0.7789049744606018, 0.5351676344871521, 0.8379358053207397, 0.7809252142906189, 0.7926396131515503, 0.005456383340060711, 0.09686043113470078, 0.783523440361023, 0.41135120391845703, 0.3240484893321991, 0.5718801021575928, 0.4784970283508301, 0.6255955100059509, 0.042388755828142166, 0.7823894619941711, 0.2697368562221527, 0.7971187829971313, 0.005158514250069857, 0.6711209416389465, 0.5851312875747681, 0.7233746647834778, 0.6270595788955688, 0.7203313112258911, 0.9156545400619507, 0.09843861311674118, 0.817534327507019, 0.6381399631500244, 0.6668506860733032, 0.5068897008895874, 0.8231744170188904, 0.874903678894043, 0.9310269951820374, 0.36953601241111755, 0.7274218797683716, 0.7658079862594604, 0.7877532839775085, 0.8705838918685913, 0.5643718242645264, 0.9214597344398499, 0.9014530181884766, 0.8498837351799011, 0.45132917165756226, 0.06365697085857391, 0.8636443018913269, 0.5954346060752869, 0.5376087427139282, 0.5280085206031799, 0.953015923500061, 0.8005479574203491, 0.6959547996520996, 0.4211101233959198, 0.00895489938557148, 0.8840429782867432, 0.7354092597961426, 0.8912632465362549, 0.03746698424220085, 0.0394396036863327, 0.792090892791748, 0.08948422223329544, 0.5432038903236389, 0.19469833374023438, 0.8757972717285156, 0.871006429195404, 0.4628763496875763, 0.9404049515724182, 0.07868953794240952, 0.7463626861572266, 0.1025097668170929, 0.5718309283256531, 0.5519546866416931, 0.927577793598175, 0.10432640463113785, 0.011397822760045528, 0.030455151572823524, 0.8938128352165222, 0.8827110528945923, 0.8808481693267822, 0.8141538500785828, 0.05729175731539726, 0.06494835764169693, 0.8931102752685547, 0.8201848864555359, 0.7675004005432129, 0.02920776605606079, 0.050398413091897964, 0.774250864982605, 0.007000260520726442, 0.4545097351074219, 0.7972497940063477, 0.5525078177452087, 0.27420157194137573, 0.6904299259185791, 0.032748397439718246, 0.846996545791626, 0.8755814433097839, 0.8551028966903687, 0.6329064965248108, 0.6978177428245544, 0.967251181602478, 0.8193961381912231, 0.39558106660842896, 0.863694429397583, 0.8450496196746826, 0.05046263337135315, 0.11589977890253067, 0.9115938544273376, 0.9205244779586792, 0.8874728083610535, 0.8084492087364197, 0.44248998165130615, 0.009405607357621193, 0.5776188373565674, 0.8972719311714172, 0.755478024482727, 0.7091563940048218, 0.9307580590248108, 0.3400656580924988, 0.006821321323513985, 0.07179177552461624, 0.9053298234939575, 0.06336887925863266, 0.10103932023048401, 0.2730797231197357, 0.08685649186372757, 0.6683493256568909, 0.8164874315261841, 0.78959721326828, 0.880233645439148, 0.9361018538475037, 0.11409065127372742, 0.7172702550888062, 0.9208970665931702, 0.7179889678955078, 0.7059270143508911, 0.03633226454257965, 0.5332069993019104, 0.23127469420433044, 0.1833454966545105, 0.8171655535697937, 0.03761381283402443, 0.4822562336921692, 0.04016989842057228, 0.05923919752240181, 0.014042834751307964, 0.17642563581466675, 0.8485591411590576, 0.8766235709190369, 0.5640277862548828, 0.8588690757751465, 0.15706370770931244, 0.05703182891011238, 0.8367748260498047, 0.3195885121822357, 0.7053178548812866, 0.07851274311542511, 0.8579491376876831, 0.8749595284461975, 0.1282632052898407, 0.935580849647522, 0.04876929894089699, 0.6115692853927612, 0.32330963015556335, 0.6582280397415161, 0.7690616250038147, 0.520073413848877, 0.7110072374343872, 0.7920559644699097, 0.9322224259376526, 0.6904347538948059, 0.1027885302901268, 0.8905598521232605, 0.8312238454818726, 0.7377166152000427, 0.041578058153390884, 0.6820056438446045, 0.8573591709136963, 0.2614118754863739, 0.7765095829963684, 0.6638267636299133, 0.16512815654277802, 0.9373416900634766, 0.006801138166338205, 0.5678725838661194, 0.23569707572460175, 0.9230479598045349, 0.7098304033279419, 0.8107054233551025, 0.8205150961875916, 0.7796391844749451, 0.7767507433891296, 0.8389872908592224, 0.8003364205360413, 0.34525570273399353, 0.556718647480011, 0.7472744584083557, 0.7195815443992615, 0.032690659165382385, 0.3229254186153412, 0.15271997451782227, 0.881777822971344, 0.7416624426841736, 0.2606131434440613, 0.8388665318489075, 0.9063718318939209, 0.33803606033325195, 0.8272911906242371, 0.8470385074615479, 0.9473841190338135, 0.6031684279441833, 0.1431952863931656, 0.7263512015342712, 0.46429699659347534, 0.2859633266925812, 0.6320379972457886, 0.791691780090332, 0.036353204399347305, 0.2372506558895111, 0.2578444480895996, 0.7894930243492126, 0.8647086024284363, 0.8556267023086548]\n"
     ]
    }
   ],
   "source": [
    "# Get test data in batch size of 5 and make predictions.\n",
    "prediction_batches = [LL_predictor.predict(batch) for batch in np.array_split(X_test.astype(\"float32\"), 5)]\n",
    "\n",
    "# Get a list of predictions\n",
    "print([pred.label['score'].float32_tensor.values[0] for pred in prediction_batches[0]])\n"
   ]
  },
  {
   "cell_type": "markdown",
   "metadata": {},
   "source": [
    "## 10. <a name=\"10\">Clean up model artifacts</a>\n",
    "(<a href=\"#0\">Go to top</a>)\n",
    "\n",
    "If you're ready to be done with this notebook, please run the cell below. This will remove the hosted endpoint you created and avoid any charges from a stray instance being left on."
   ]
  },
  {
   "cell_type": "code",
   "execution_count": 31,
   "metadata": {
    "tags": []
   },
   "outputs": [
    {
     "name": "stderr",
     "output_type": "stream",
     "text": [
      "INFO:sagemaker:Deleting endpoint configuration with name: endpoint-mla-tab-sm-2021\n",
      "INFO:sagemaker:Deleting endpoint with name: endpoint-mla-tab-sm-2021\n"
     ]
    }
   ],
   "source": [
    "LL_predictor.delete_endpoint()"
   ]
  },
  {
   "cell_type": "code",
   "execution_count": null,
   "metadata": {},
   "outputs": [],
   "source": []
  }
 ],
 "metadata": {
  "kernelspec": {
   "display_name": "conda_python3",
   "language": "python",
   "name": "conda_python3"
  },
  "language_info": {
   "codemirror_mode": {
    "name": "ipython",
    "version": 3
   },
   "file_extension": ".py",
   "mimetype": "text/x-python",
   "name": "python",
   "nbconvert_exporter": "python",
   "pygments_lexer": "ipython3",
   "version": "3.10.14"
  }
 },
 "nbformat": 4,
 "nbformat_minor": 4
}
